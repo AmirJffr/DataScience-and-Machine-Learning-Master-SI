{
  "cells": [
    {
      "cell_type": "markdown",
      "metadata": {
        "id": "view-in-github",
        "colab_type": "text"
      },
      "source": [
        "<a href=\"https://colab.research.google.com/github/AmirJffr/DataScience-and-Machine-Learning-Master-SI/blob/main/Assignements/Part%203/Assignment_part_3.ipynb\" target=\"_parent\"><img src=\"https://colab.research.google.com/assets/colab-badge.svg\" alt=\"Open In Colab\"/></a>"
      ]
    },
    {
      "cell_type": "markdown",
      "metadata": {
        "id": "kZu-7QbP9muh"
      },
      "source": [
        "### DSML investigation\n",
        "\n",
        "You are part of the Suisse Impossible Mission Force, or SIMF for short. You need to uncover a rogue agent that is trying to steal sensitive information.\n",
        "\n",
        "Your mission, should you choose to accept it, is to find that agent before stealing any classified information. Good luck!"
      ]
    },
    {
      "cell_type": "markdown",
      "metadata": {
        "id": "DyL7WNdV9sWV"
      },
      "source": [
        "# Assignment part three\n",
        "\n",
        "\n",
        "We received new intelligence informing us that the rogue agent has a position with great responsibility.\n",
        "Use the table \"HR_Analytics.csv\" to create a classifier model that predicts the job role of a person. Use this model to predict the roles of the table of suspects \"suspect_HR_data.csv\".\n",
        "\n",
        "Retain only the list of suspects whose role indicates high responsibility.\n",
        "\n",
        "\n",
        "## Getting to know our data\n",
        "\n",
        "- BusinessTravel: The frequency of business travel for the employee. (Categorical)\n",
        "- DailyRate: The daily rate of pay for the employee. (Numerical)\n",
        "- DistanceFromHome: The distance from home in miles for the employee. (Numerical)\n",
        "- Education: The level of education achieved by the employee. (Categorical)\n",
        "- EmployeeCount: The total number of employees in the organization. (Numerical)\n",
        "- EmployeeNumber: A unique identifier for each employee profile. (Numerical)\n",
        "- EnvironmentSatisfaction: The employee's satisfaction with their work environment. (Categorical)\n",
        "- Gender: The gender of the employee. (Categorical)\n",
        "- HourlyRate: The hourly rate of pay for the employee. (Numerical)\n",
        "- JobInvolvement: The level of involvement required for the employee's job. (Categorical)\n",
        "- JobLevel: The job level of the employee. (Categorical)\n",
        "- JobSatisfaction: The employee's satisfaction with their job. (Categorical)\n",
        "- MonthlyIncome: The monthly income of the employee. (Numerical)\n",
        "- MonthlyRate: The monthly rate of pay for the employee. (Numerical)\n",
        "- NumCompaniesWorked: The number of companies the employee has worked for. (Numerical)\n",
        "- Over18: Whether or not the employee is over 18. (Categorical)\n",
        "- OverTime: Whether or not the employee works overtime. (Categorical)\n",
        "- PercentSalaryHike: The percentage of salary hike for the employee. (Numerical)\n",
        "- PerformanceRating: The performance rating of the employee. (Categorical)\n",
        "- RelationshipSatisfaction: The employee's satisfaction with their relationships. (Categorical)\n",
        "- StandardHours: The standard hours of work for the employee. (Numerical)\n",
        "- StockOptionLevel: The stock option level of the employee. (Numerical)\n",
        "- TotalWorkingYears: The total number of years the employee has worked. (Numerical)\n",
        "- TrainingTimesLastYear: The number of times the employee was taken for training in the last year. (Numerical)\n",
        "- WorkLifeBalance: The employee's perception of their work-life balance. (Categorical)\n",
        "- YearsAtCompany: The number of years the employee has been with the company. (Numerical)\n",
        "- YearsInCurrentRole: The number of years the employee has been in their current role. (Numerical)\n",
        "- YearsSinceLastPromotion: The number of years since the employee's last promotion. (Numerical)\n",
        "- YearsWithCurrManager: The number of years the employee has been with their current manager. (Numerical)"
      ]
    },
    {
      "cell_type": "code",
      "execution_count": 1,
      "metadata": {
        "id": "XHhI95r5-tyD"
      },
      "outputs": [],
      "source": [
        "# Import required packages\n",
        "import  numpy as np\n",
        "import pandas as pd\n",
        "import matplotlib.pyplot as plt\n",
        "from sklearn.linear_model import LogisticRegression, LogisticRegressionCV\n",
        "from sklearn.tree import DecisionTreeClassifier\n",
        "from sklearn.neighbors import KNeighborsClassifier\n",
        "from sklearn.preprocessing import OneHotEncoder, LabelEncoder, MinMaxScaler\n",
        "from sklearn.compose import ColumnTransformer\n",
        "from sklearn.model_selection import train_test_split\n",
        "from sklearn.metrics import accuracy_score\n",
        "from sklearn.model_selection import GridSearchCV\n",
        "from sklearn.metrics import confusion_matrix, classification_report\n",
        "import seaborn as sns\n",
        "from sklearn.ensemble import RandomForestClassifier\n",
        "\n",
        "\n",
        "from sklearn.model_selection import train_test_split, GridSearchCV\n",
        "from sklearn.metrics import confusion_matrix, accuracy_score, precision_score, recall_score, f1_score\n",
        "%matplotlib inline\n",
        "\n",
        "df = pd.read_csv(\"https://raw.githubusercontent.com/michalis0/DataScience_and_MachineLearning/master/Assignements/Part%203/data/HR_Analytics.csv\", index_col='Unnamed: 0')\n",
        "suspects = pd.read_csv(\"https://raw.githubusercontent.com/michalis0/DataScience_and_MachineLearning/master/Assignements/Part%203/data/suspects.csv\", index_col='Unnamed: 0')\n"
      ]
    },
    {
      "cell_type": "markdown",
      "metadata": {
        "id": "mg11L0cJfVM-"
      },
      "source": [
        "## 1. Check the data"
      ]
    },
    {
      "cell_type": "markdown",
      "metadata": {
        "id": "IJjR8ESu6x-Q"
      },
      "source": [
        "Display the first rows of the datasets at hand. Display the list of columns they have."
      ]
    },
    {
      "cell_type": "code",
      "execution_count": 6,
      "metadata": {
        "id": "o1x8qBfVy89n",
        "outputId": "443b997e-eed3-4218-def5-db3f50e71e39",
        "colab": {
          "base_uri": "https://localhost:8080/"
        }
      },
      "outputs": [
        {
          "output_type": "execute_result",
          "data": {
            "text/plain": [
              "Index(['BusinessTravel', 'DailyRate', 'DistanceFromHome', 'Education',\n",
              "       'EmployeeCount', 'EmployeeNumber', 'EnvironmentSatisfaction', 'Gender',\n",
              "       'HourlyRate', 'JobInvolvement', 'JobLevel', 'JobSatisfaction',\n",
              "       'MonthlyIncome', 'MonthlyRate', 'NumCompaniesWorked', 'OverTime',\n",
              "       'PercentSalaryHike', 'PerformanceRating', 'RelationshipSatisfaction',\n",
              "       'StandardHours', 'StockOptionLevel', 'TotalWorkingYears',\n",
              "       'TrainingTimesLastYear', 'WorkLifeBalance', 'YearsAtCompany',\n",
              "       'YearsInCurrentRole', 'YearsSinceLastPromotion',\n",
              "       'YearsWithCurrManager'],\n",
              "      dtype='object')"
            ]
          },
          "metadata": {},
          "execution_count": 6
        }
      ],
      "source": [
        "df.head()\n",
        "df.columns"
      ]
    },
    {
      "cell_type": "code",
      "execution_count": 8,
      "metadata": {
        "id": "uLN7TLb267n6",
        "outputId": "fdcfad79-5aea-4c1d-c423-8075f1594592",
        "colab": {
          "base_uri": "https://localhost:8080/"
        }
      },
      "outputs": [
        {
          "output_type": "execute_result",
          "data": {
            "text/plain": [
              "Index(['userID', 'BusinessTravel', 'DailyRate', 'DistanceFromHome',\n",
              "       'Education', 'EmployeeCount', 'EmployeeNumber',\n",
              "       'EnvironmentSatisfaction', 'Gender', 'HourlyRate', 'JobInvolvement',\n",
              "       'JobSatisfaction', 'MonthlyIncome', 'MonthlyRate', 'NumCompaniesWorked',\n",
              "       'OverTime', 'PercentSalaryHike', 'PerformanceRating',\n",
              "       'RelationshipSatisfaction', 'StandardHours', 'StockOptionLevel',\n",
              "       'TotalWorkingYears', 'TrainingTimesLastYear', 'WorkLifeBalance',\n",
              "       'YearsAtCompany', 'YearsInCurrentRole', 'YearsSinceLastPromotion',\n",
              "       'YearsWithCurrManager'],\n",
              "      dtype='object')"
            ]
          },
          "metadata": {},
          "execution_count": 8
        }
      ],
      "source": [
        "# Same steps for the suspects dataset\n",
        "suspects.head()\n",
        "suspects.columns"
      ]
    },
    {
      "cell_type": "markdown",
      "metadata": {
        "id": "Nx-eBE9fZZDc"
      },
      "source": [
        "## 2. Encode categorical variable"
      ]
    },
    {
      "cell_type": "markdown",
      "metadata": {
        "id": "MRt-OwQYIu9Q"
      },
      "source": [
        "Before we can use categorical data in our logistic regression model, these values must be encoded. To determine the most appropriate type of encoding, it's essential to first understand the unique entries in each categorical column.\n",
        "\n",
        "Retrieve and review the unique values for the following columns: `BusinessTravel`, `Gender`, and `OverTime`. This will guide our choice of encoding method.\n",
        "\n",
        "*Hint: A unique value in a column represents a distinct category.*"
      ]
    },
    {
      "cell_type": "code",
      "execution_count": 18,
      "metadata": {
        "id": "yC42BCvdIvg0",
        "outputId": "3ff2e700-6cc7-4436-ef41-e667ee54eaf4",
        "colab": {
          "base_uri": "https://localhost:8080/"
        }
      },
      "outputs": [
        {
          "output_type": "stream",
          "name": "stdout",
          "text": [
            "Business Travel values:  ['Travel_Rarely' 'Travel_Frequently' 'Non-Travel'] \n",
            "Gender values:  ['Female' 'Male'] \n",
            "OverTime values:  ['Yes' 'No']\n"
          ]
        }
      ],
      "source": [
        "print(f\"Business Travel values: \",df['BusinessTravel'].unique(),\"\\nGender values: \",df['Gender'].unique(),\"\\nOverTime values: \",df['OverTime'].unique())"
      ]
    },
    {
      "cell_type": "markdown",
      "metadata": {
        "id": "_vI-voMgJEmC"
      },
      "source": [
        "**Q1. Which of the following values are included in the unique values of the \"BusinessTravel\" column?**"
      ]
    },
    {
      "cell_type": "markdown",
      "source": [
        "Business Travel values:  ['Travel_Rarely' 'Travel_Frequently' 'Non-Travel']"
      ],
      "metadata": {
        "id": "TD9VFZEwMvjQ"
      }
    },
    {
      "cell_type": "markdown",
      "metadata": {
        "id": "9eQTRYx1CG6j"
      },
      "source": [
        "### 2.1 Encode df dataframe"
      ]
    },
    {
      "cell_type": "markdown",
      "metadata": {
        "id": "F0DCBpE-cJ4t"
      },
      "source": [
        "Consider the dataset HR_analytics which is loaded in the dataframe `df`. We will train our models on this data.\n"
      ]
    },
    {
      "cell_type": "markdown",
      "metadata": {
        "id": "Ls_BFsg8XwLj"
      },
      "source": [
        "*Hint: The general idea is to create a new dataset that will contain the new encoded columns and get rid of the original columns `BusinessTravel`, `OverTime` and `Gender`.*\n",
        "\n",
        "Let's start by encoding our 3 categorical variables:\n",
        "\n",
        "* Label Encoding: `BusinessTravel`.\n",
        "* One-Hot Encoding: `Gender`, `OverTime`\n",
        "\n",
        "*Note: To clearly distinguish your newly encoded columns, especially for label encoding, consider renaming them with a prefix. For example, use `le_BusinessTravel` for the label-encoded `BusinessTravel` column.*\n"
      ]
    },
    {
      "cell_type": "markdown",
      "metadata": {
        "id": "CJuuh9CiKX5O"
      },
      "source": []
    },
    {
      "cell_type": "code",
      "execution_count": 32,
      "metadata": {
        "id": "cH0XFBPNc9Ir",
        "outputId": "207b14d2-5819-495b-de34-478edc2df64e",
        "colab": {
          "base_uri": "https://localhost:8080/",
          "height": 312
        }
      },
      "outputs": [
        {
          "output_type": "stream",
          "name": "stderr",
          "text": [
            "/tmp/ipython-input-736161818.py:2: SettingWithCopyWarning: \n",
            "A value is trying to be set on a copy of a slice from a DataFrame.\n",
            "Try using .loc[row_indexer,col_indexer] = value instead\n",
            "\n",
            "See the caveats in the documentation: https://pandas.pydata.org/pandas-docs/stable/user_guide/indexing.html#returning-a-view-versus-a-copy\n",
            "  dummy_df['le_BusinessTravel'] = LabelEncoder().fit_transform(dummy_df['BusinessTravel'])\n"
          ]
        },
        {
          "output_type": "execute_result",
          "data": {
            "text/plain": [
              "   Gender_Female  Gender_Male  OverTime_No  OverTime_Yes\n",
              "0            1.0          0.0          0.0           1.0\n",
              "1            0.0          1.0          1.0           0.0\n",
              "2            0.0          1.0          0.0           1.0\n",
              "3            1.0          0.0          0.0           1.0\n",
              "4            0.0          1.0          1.0           0.0"
            ],
            "text/html": [
              "\n",
              "  <div id=\"df-61994196-16ac-419b-ae75-d6ff807a7971\" class=\"colab-df-container\">\n",
              "    <div>\n",
              "<style scoped>\n",
              "    .dataframe tbody tr th:only-of-type {\n",
              "        vertical-align: middle;\n",
              "    }\n",
              "\n",
              "    .dataframe tbody tr th {\n",
              "        vertical-align: top;\n",
              "    }\n",
              "\n",
              "    .dataframe thead th {\n",
              "        text-align: right;\n",
              "    }\n",
              "</style>\n",
              "<table border=\"1\" class=\"dataframe\">\n",
              "  <thead>\n",
              "    <tr style=\"text-align: right;\">\n",
              "      <th></th>\n",
              "      <th>Gender_Female</th>\n",
              "      <th>Gender_Male</th>\n",
              "      <th>OverTime_No</th>\n",
              "      <th>OverTime_Yes</th>\n",
              "    </tr>\n",
              "  </thead>\n",
              "  <tbody>\n",
              "    <tr>\n",
              "      <th>0</th>\n",
              "      <td>1.0</td>\n",
              "      <td>0.0</td>\n",
              "      <td>0.0</td>\n",
              "      <td>1.0</td>\n",
              "    </tr>\n",
              "    <tr>\n",
              "      <th>1</th>\n",
              "      <td>0.0</td>\n",
              "      <td>1.0</td>\n",
              "      <td>1.0</td>\n",
              "      <td>0.0</td>\n",
              "    </tr>\n",
              "    <tr>\n",
              "      <th>2</th>\n",
              "      <td>0.0</td>\n",
              "      <td>1.0</td>\n",
              "      <td>0.0</td>\n",
              "      <td>1.0</td>\n",
              "    </tr>\n",
              "    <tr>\n",
              "      <th>3</th>\n",
              "      <td>1.0</td>\n",
              "      <td>0.0</td>\n",
              "      <td>0.0</td>\n",
              "      <td>1.0</td>\n",
              "    </tr>\n",
              "    <tr>\n",
              "      <th>4</th>\n",
              "      <td>0.0</td>\n",
              "      <td>1.0</td>\n",
              "      <td>1.0</td>\n",
              "      <td>0.0</td>\n",
              "    </tr>\n",
              "  </tbody>\n",
              "</table>\n",
              "</div>\n",
              "    <div class=\"colab-df-buttons\">\n",
              "\n",
              "  <div class=\"colab-df-container\">\n",
              "    <button class=\"colab-df-convert\" onclick=\"convertToInteractive('df-61994196-16ac-419b-ae75-d6ff807a7971')\"\n",
              "            title=\"Convert this dataframe to an interactive table.\"\n",
              "            style=\"display:none;\">\n",
              "\n",
              "  <svg xmlns=\"http://www.w3.org/2000/svg\" height=\"24px\" viewBox=\"0 -960 960 960\">\n",
              "    <path d=\"M120-120v-720h720v720H120Zm60-500h600v-160H180v160Zm220 220h160v-160H400v160Zm0 220h160v-160H400v160ZM180-400h160v-160H180v160Zm440 0h160v-160H620v160ZM180-180h160v-160H180v160Zm440 0h160v-160H620v160Z\"/>\n",
              "  </svg>\n",
              "    </button>\n",
              "\n",
              "  <style>\n",
              "    .colab-df-container {\n",
              "      display:flex;\n",
              "      gap: 12px;\n",
              "    }\n",
              "\n",
              "    .colab-df-convert {\n",
              "      background-color: #E8F0FE;\n",
              "      border: none;\n",
              "      border-radius: 50%;\n",
              "      cursor: pointer;\n",
              "      display: none;\n",
              "      fill: #1967D2;\n",
              "      height: 32px;\n",
              "      padding: 0 0 0 0;\n",
              "      width: 32px;\n",
              "    }\n",
              "\n",
              "    .colab-df-convert:hover {\n",
              "      background-color: #E2EBFA;\n",
              "      box-shadow: 0px 1px 2px rgba(60, 64, 67, 0.3), 0px 1px 3px 1px rgba(60, 64, 67, 0.15);\n",
              "      fill: #174EA6;\n",
              "    }\n",
              "\n",
              "    .colab-df-buttons div {\n",
              "      margin-bottom: 4px;\n",
              "    }\n",
              "\n",
              "    [theme=dark] .colab-df-convert {\n",
              "      background-color: #3B4455;\n",
              "      fill: #D2E3FC;\n",
              "    }\n",
              "\n",
              "    [theme=dark] .colab-df-convert:hover {\n",
              "      background-color: #434B5C;\n",
              "      box-shadow: 0px 1px 3px 1px rgba(0, 0, 0, 0.15);\n",
              "      filter: drop-shadow(0px 1px 2px rgba(0, 0, 0, 0.3));\n",
              "      fill: #FFFFFF;\n",
              "    }\n",
              "  </style>\n",
              "\n",
              "    <script>\n",
              "      const buttonEl =\n",
              "        document.querySelector('#df-61994196-16ac-419b-ae75-d6ff807a7971 button.colab-df-convert');\n",
              "      buttonEl.style.display =\n",
              "        google.colab.kernel.accessAllowed ? 'block' : 'none';\n",
              "\n",
              "      async function convertToInteractive(key) {\n",
              "        const element = document.querySelector('#df-61994196-16ac-419b-ae75-d6ff807a7971');\n",
              "        const dataTable =\n",
              "          await google.colab.kernel.invokeFunction('convertToInteractive',\n",
              "                                                    [key], {});\n",
              "        if (!dataTable) return;\n",
              "\n",
              "        const docLinkHtml = 'Like what you see? Visit the ' +\n",
              "          '<a target=\"_blank\" href=https://colab.research.google.com/notebooks/data_table.ipynb>data table notebook</a>'\n",
              "          + ' to learn more about interactive tables.';\n",
              "        element.innerHTML = '';\n",
              "        dataTable['output_type'] = 'display_data';\n",
              "        await google.colab.output.renderOutput(dataTable, element);\n",
              "        const docLink = document.createElement('div');\n",
              "        docLink.innerHTML = docLinkHtml;\n",
              "        element.appendChild(docLink);\n",
              "      }\n",
              "    </script>\n",
              "  </div>\n",
              "\n",
              "\n",
              "    <div id=\"df-a0746d7b-9b62-40ad-b8ba-d56bfd217511\">\n",
              "      <button class=\"colab-df-quickchart\" onclick=\"quickchart('df-a0746d7b-9b62-40ad-b8ba-d56bfd217511')\"\n",
              "                title=\"Suggest charts\"\n",
              "                style=\"display:none;\">\n",
              "\n",
              "<svg xmlns=\"http://www.w3.org/2000/svg\" height=\"24px\"viewBox=\"0 0 24 24\"\n",
              "     width=\"24px\">\n",
              "    <g>\n",
              "        <path d=\"M19 3H5c-1.1 0-2 .9-2 2v14c0 1.1.9 2 2 2h14c1.1 0 2-.9 2-2V5c0-1.1-.9-2-2-2zM9 17H7v-7h2v7zm4 0h-2V7h2v10zm4 0h-2v-4h2v4z\"/>\n",
              "    </g>\n",
              "</svg>\n",
              "      </button>\n",
              "\n",
              "<style>\n",
              "  .colab-df-quickchart {\n",
              "      --bg-color: #E8F0FE;\n",
              "      --fill-color: #1967D2;\n",
              "      --hover-bg-color: #E2EBFA;\n",
              "      --hover-fill-color: #174EA6;\n",
              "      --disabled-fill-color: #AAA;\n",
              "      --disabled-bg-color: #DDD;\n",
              "  }\n",
              "\n",
              "  [theme=dark] .colab-df-quickchart {\n",
              "      --bg-color: #3B4455;\n",
              "      --fill-color: #D2E3FC;\n",
              "      --hover-bg-color: #434B5C;\n",
              "      --hover-fill-color: #FFFFFF;\n",
              "      --disabled-bg-color: #3B4455;\n",
              "      --disabled-fill-color: #666;\n",
              "  }\n",
              "\n",
              "  .colab-df-quickchart {\n",
              "    background-color: var(--bg-color);\n",
              "    border: none;\n",
              "    border-radius: 50%;\n",
              "    cursor: pointer;\n",
              "    display: none;\n",
              "    fill: var(--fill-color);\n",
              "    height: 32px;\n",
              "    padding: 0;\n",
              "    width: 32px;\n",
              "  }\n",
              "\n",
              "  .colab-df-quickchart:hover {\n",
              "    background-color: var(--hover-bg-color);\n",
              "    box-shadow: 0 1px 2px rgba(60, 64, 67, 0.3), 0 1px 3px 1px rgba(60, 64, 67, 0.15);\n",
              "    fill: var(--button-hover-fill-color);\n",
              "  }\n",
              "\n",
              "  .colab-df-quickchart-complete:disabled,\n",
              "  .colab-df-quickchart-complete:disabled:hover {\n",
              "    background-color: var(--disabled-bg-color);\n",
              "    fill: var(--disabled-fill-color);\n",
              "    box-shadow: none;\n",
              "  }\n",
              "\n",
              "  .colab-df-spinner {\n",
              "    border: 2px solid var(--fill-color);\n",
              "    border-color: transparent;\n",
              "    border-bottom-color: var(--fill-color);\n",
              "    animation:\n",
              "      spin 1s steps(1) infinite;\n",
              "  }\n",
              "\n",
              "  @keyframes spin {\n",
              "    0% {\n",
              "      border-color: transparent;\n",
              "      border-bottom-color: var(--fill-color);\n",
              "      border-left-color: var(--fill-color);\n",
              "    }\n",
              "    20% {\n",
              "      border-color: transparent;\n",
              "      border-left-color: var(--fill-color);\n",
              "      border-top-color: var(--fill-color);\n",
              "    }\n",
              "    30% {\n",
              "      border-color: transparent;\n",
              "      border-left-color: var(--fill-color);\n",
              "      border-top-color: var(--fill-color);\n",
              "      border-right-color: var(--fill-color);\n",
              "    }\n",
              "    40% {\n",
              "      border-color: transparent;\n",
              "      border-right-color: var(--fill-color);\n",
              "      border-top-color: var(--fill-color);\n",
              "    }\n",
              "    60% {\n",
              "      border-color: transparent;\n",
              "      border-right-color: var(--fill-color);\n",
              "    }\n",
              "    80% {\n",
              "      border-color: transparent;\n",
              "      border-right-color: var(--fill-color);\n",
              "      border-bottom-color: var(--fill-color);\n",
              "    }\n",
              "    90% {\n",
              "      border-color: transparent;\n",
              "      border-bottom-color: var(--fill-color);\n",
              "    }\n",
              "  }\n",
              "</style>\n",
              "\n",
              "      <script>\n",
              "        async function quickchart(key) {\n",
              "          const quickchartButtonEl =\n",
              "            document.querySelector('#' + key + ' button');\n",
              "          quickchartButtonEl.disabled = true;  // To prevent multiple clicks.\n",
              "          quickchartButtonEl.classList.add('colab-df-spinner');\n",
              "          try {\n",
              "            const charts = await google.colab.kernel.invokeFunction(\n",
              "                'suggestCharts', [key], {});\n",
              "          } catch (error) {\n",
              "            console.error('Error during call to suggestCharts:', error);\n",
              "          }\n",
              "          quickchartButtonEl.classList.remove('colab-df-spinner');\n",
              "          quickchartButtonEl.classList.add('colab-df-quickchart-complete');\n",
              "        }\n",
              "        (() => {\n",
              "          let quickchartButtonEl =\n",
              "            document.querySelector('#df-a0746d7b-9b62-40ad-b8ba-d56bfd217511 button');\n",
              "          quickchartButtonEl.style.display =\n",
              "            google.colab.kernel.accessAllowed ? 'block' : 'none';\n",
              "        })();\n",
              "      </script>\n",
              "    </div>\n",
              "\n",
              "    </div>\n",
              "  </div>\n"
            ],
            "application/vnd.google.colaboratory.intrinsic+json": {
              "type": "dataframe",
              "variable_name": "encoded_df",
              "summary": "{\n  \"name\": \"encoded_df\",\n  \"rows\": 1470,\n  \"fields\": [\n    {\n      \"column\": \"Gender_Female\",\n      \"properties\": {\n        \"dtype\": \"number\",\n        \"std\": 0.49006466557646144,\n        \"min\": 0.0,\n        \"max\": 1.0,\n        \"num_unique_values\": 2,\n        \"samples\": [\n          0.0,\n          1.0\n        ],\n        \"semantic_type\": \"\",\n        \"description\": \"\"\n      }\n    },\n    {\n      \"column\": \"Gender_Male\",\n      \"properties\": {\n        \"dtype\": \"number\",\n        \"std\": 0.49006466557646144,\n        \"min\": 0.0,\n        \"max\": 1.0,\n        \"num_unique_values\": 2,\n        \"samples\": [\n          1.0,\n          0.0\n        ],\n        \"semantic_type\": \"\",\n        \"description\": \"\"\n      }\n    },\n    {\n      \"column\": \"OverTime_No\",\n      \"properties\": {\n        \"dtype\": \"number\",\n        \"std\": 0.45060645159817936,\n        \"min\": 0.0,\n        \"max\": 1.0,\n        \"num_unique_values\": 2,\n        \"samples\": [\n          1.0,\n          0.0\n        ],\n        \"semantic_type\": \"\",\n        \"description\": \"\"\n      }\n    },\n    {\n      \"column\": \"OverTime_Yes\",\n      \"properties\": {\n        \"dtype\": \"number\",\n        \"std\": 0.45060645159817936,\n        \"min\": 0.0,\n        \"max\": 1.0,\n        \"num_unique_values\": 2,\n        \"samples\": [\n          0.0,\n          1.0\n        ],\n        \"semantic_type\": \"\",\n        \"description\": \"\"\n      }\n    }\n  ]\n}"
            }
          },
          "metadata": {},
          "execution_count": 32
        }
      ],
      "source": [
        "dummy_df = df[['BusinessTravel', 'Gender', 'OverTime']]\n",
        "dummy_df['le_BusinessTravel'] = LabelEncoder().fit_transform(dummy_df['BusinessTravel'])\n",
        "encoder = OneHotEncoder()\n",
        "encoded_columns = encoder.fit_transform(dummy_df[['Gender', 'OverTime']])\n",
        "encoded_df = pd.DataFrame(encoded_columns.toarray(), columns=encoder.get_feature_names_out(['Gender', 'OverTime']))\n",
        "encoded_df.head()"
      ]
    },
    {
      "cell_type": "markdown",
      "metadata": {
        "id": "5-nlGiNpRHBK"
      },
      "source": [
        " After encoding these categorical variable, merge the newly encoded columns back into a new dataframe named `df_encoded`.\n",
        "\n",
        "This integrated dataframe will then be used for training your model."
      ]
    },
    {
      "cell_type": "code",
      "execution_count": null,
      "metadata": {
        "id": "k7LlXkEZRYHV"
      },
      "outputs": [],
      "source": [
        "encoded_df = df.copy()\n",
        "encoded_df['le_BusinessTravel'] = LabelEncoder().fit_transform(encoded_df['BusinessTravel'])\n",
        "encoded_df = pd.get_dummies(encoded_df, columns=['Gender', 'OverTime'])\n",
        "encoded_df.head()"
      ]
    },
    {
      "cell_type": "markdown",
      "metadata": {
        "id": "hKiIkxmHRX6H"
      },
      "source": [
        "Ensure you remove the columns `BusinessTravel`, `Gender`, and `OverTime` from your `df_encoded` dataframe, as these contain categorical values.\n",
        "You can display the few first rows in order to check if your encoding worked correctly."
      ]
    },
    {
      "cell_type": "code",
      "execution_count": null,
      "metadata": {
        "id": "8hBGx05ZR2jD"
      },
      "outputs": [],
      "source": [
        "# Your code here"
      ]
    },
    {
      "cell_type": "markdown",
      "metadata": {
        "id": "GmCcn8N0aNpS"
      },
      "source": [
        "Let's count and display the occurrences of each value in the `le_BusinessTravel` column of the `df_encoded` DataFrame."
      ]
    },
    {
      "cell_type": "code",
      "execution_count": null,
      "metadata": {
        "id": "YfAAF-QnaNpS"
      },
      "outputs": [],
      "source": [
        "# Your code here"
      ]
    },
    {
      "cell_type": "markdown",
      "metadata": {
        "id": "FCWLRV4u2jO9"
      },
      "source": [
        "### 2.2. Encode suspects dataset"
      ]
    },
    {
      "cell_type": "markdown",
      "metadata": {
        "id": "_uZbFz3T7SiF"
      },
      "source": [
        "Proceed with encoding the `suspects` dataset by following the same steps outlined in Section 2.1. Note the key differences for this dataset:\n",
        "\n",
        "- It lacks the `JobLevel` column, which is our target variable for prediction.\n",
        "- It includes an additional column, `userID`, which is not present in the first dataset.\n"
      ]
    },
    {
      "cell_type": "markdown",
      "metadata": {
        "id": "QfgBi0H9X0DE"
      },
      "source": [
        "*Hint: The general idea is to create a new dataset that will contain the new encoded columns and get rid of the original column BusinessTravel, OverTime and Gender.*\n",
        "\n",
        "Let's start by encoding our 3 categorical variables:\n",
        "\n",
        "* Label Encoding: `BusinessTravel`.\n",
        "* One-Hot Encoding: `Gender`, `OverTime`"
      ]
    },
    {
      "cell_type": "code",
      "execution_count": null,
      "metadata": {
        "id": "VwJ51tyH2-kM"
      },
      "outputs": [],
      "source": [
        "# Your code here"
      ]
    },
    {
      "cell_type": "markdown",
      "metadata": {
        "id": "F91I7pfpEG-O"
      },
      "source": [
        " After encoding these categorical variable, merge the newly encoded columns with the dataframe `suspects` to create a new dataframe named `suspects_encoded`.\n",
        "\n",
        "This new dataframe will then be used for the prediction at the end of the notebook."
      ]
    },
    {
      "cell_type": "code",
      "execution_count": null,
      "metadata": {
        "id": "HKGrUGqWEH1d"
      },
      "outputs": [],
      "source": [
        "# Your code here"
      ]
    },
    {
      "cell_type": "markdown",
      "metadata": {
        "id": "lKVHQOwaELSW"
      },
      "source": [
        "Ensure you remove the columns `BusinessTravel`, `Gender`, and `OverTime` from your encoded dataset, as these contain categorical values.\n",
        "\n",
        "Also remove the `userID` columns as it's the independant variable.\n",
        "\n",
        "You can display the few first rows in order to check if your encoding worked correctly."
      ]
    },
    {
      "cell_type": "code",
      "execution_count": null,
      "metadata": {
        "id": "nFTCCFkBEPqt"
      },
      "outputs": [],
      "source": [
        "# Your code here"
      ]
    },
    {
      "cell_type": "markdown",
      "metadata": {
        "id": "ac1J_LPdaNpU"
      },
      "source": [
        "**Q2. How many columns does `suspects_encoded`dataframe contains after the whole encoding process?**"
      ]
    },
    {
      "cell_type": "markdown",
      "metadata": {
        "id": "jEf_KqTC1kzs"
      },
      "source": [
        "## 3. Split and rescale"
      ]
    },
    {
      "cell_type": "markdown",
      "metadata": {
        "id": "gx5sxQAY1nCj"
      },
      "source": [
        "To ensure our model generalizes well to new data and to mitigate overfitting, it is essential to partition the dataframe `df_encoded` into training and testing subsets.\n",
        "* Define your dependent variable y `JobLevel` and your independent features X;\n",
        "* Set random seed to 123;\n",
        "* Set test size to 20% and train size to 80%;\n",
        "* Split your dataset into test and train set;\n",
        "* Rescale the features using `MinMaxScaler()`"
      ]
    },
    {
      "cell_type": "code",
      "execution_count": null,
      "metadata": {
        "id": "o_gvUHBj1mi2"
      },
      "outputs": [],
      "source": [
        "# Your code here"
      ]
    },
    {
      "cell_type": "markdown",
      "metadata": {
        "id": "KPoK0Exl3ZHe"
      },
      "source": [
        "## 4. Logistic regression"
      ]
    },
    {
      "cell_type": "markdown",
      "metadata": {
        "id": "ptG02qLp3uRq"
      },
      "source": [
        "\n",
        "In this section we will use logistic regression to predict the `JobLevel` of the potential suspects in the training dataframe `df_encoded`."
      ]
    },
    {
      "cell_type": "markdown",
      "metadata": {
        "id": "5HryuD63Y0q9"
      },
      "source": [
        "Begin by training a logistic regression model with the `max_iter` parameter set to 1000 and `random_state` to 123. Fit the model on the training data."
      ]
    },
    {
      "cell_type": "code",
      "execution_count": null,
      "metadata": {
        "id": "K3Bb-Kgfw8OF"
      },
      "outputs": [],
      "source": [
        "# Your code here"
      ]
    },
    {
      "cell_type": "markdown",
      "metadata": {
        "id": "bbt4tUOQY2-_"
      },
      "source": [
        "Then, evaluate the model's accuracy on the test set.\n",
        "\n"
      ]
    },
    {
      "cell_type": "code",
      "execution_count": null,
      "metadata": {
        "id": "5wrei-z-Y8e9"
      },
      "outputs": [],
      "source": [
        "# Your code here"
      ]
    },
    {
      "cell_type": "markdown",
      "metadata": {
        "id": "Guq2j4d44Mjd"
      },
      "source": [
        "## 5. Evaluate your model"
      ]
    },
    {
      "cell_type": "markdown",
      "metadata": {
        "id": "u2vOsuX2aNpV"
      },
      "source": [
        "### 5.1 Classification Report"
      ]
    },
    {
      "cell_type": "markdown",
      "metadata": {
        "id": "lukViE7T4luK"
      },
      "source": [
        "To gain more insight into the quality of our model, generate and print the classification report using the test set."
      ]
    },
    {
      "cell_type": "code",
      "execution_count": null,
      "metadata": {
        "id": "F0CDNAKL4jsr"
      },
      "outputs": [],
      "source": [
        "# Your code here"
      ]
    },
    {
      "cell_type": "markdown",
      "metadata": {
        "id": "Z4UXsr4-aNpW"
      },
      "source": [
        "**Q3. According to the classification report, which job level does the logistic regression model struggle the most to classify accurately?**\n",
        "\n",
        "*Hint: Precision might not be the only value to take into consideration*"
      ]
    },
    {
      "cell_type": "markdown",
      "metadata": {
        "id": "b56IE1U3aNpW"
      },
      "source": [
        "### 5.2 Confusion Matrix"
      ]
    },
    {
      "cell_type": "markdown",
      "metadata": {
        "id": "kGO2q4DR4rfq"
      },
      "source": [
        "Print a heatmap of a confusion matrix.\n",
        "\n",
        "*Note: The code below adjusts the category numeration to start from '1' instead of the default '0'. Make sure to replace the placeholders with your actual variables before plotting the confusion matrix.*\n",
        "\n",
        "*Code Reuse Guidance: Ensure that you use the correct variables when adapting the provided code snippet to generate and display the heatmap of your confusion matrix.*"
      ]
    },
    {
      "cell_type": "code",
      "execution_count": null,
      "metadata": {
        "id": "losiDdW_4rKB"
      },
      "outputs": [],
      "source": [
        "# Plot confusion matrix as heatmap\n",
        "# Calculate the confusion matrix\n",
        "cm = confusion_matrix(y_test, y_pred)\n",
        "\n",
        "# Adjust the confusion matrix for 1-based indexing if necessary\n",
        "if np.min(y_test) == 0:  # Check if the smallest label is 0\n",
        "    cm = np.roll(cm, shift=1, axis=0)\n",
        "    cm = np.roll(cm, shift=1, axis=1)\n",
        "\n",
        "# Your code here"
      ]
    },
    {
      "cell_type": "markdown",
      "metadata": {
        "id": "bjHidWPdaNpX"
      },
      "source": [
        "**Q4. Based on the confusion matrix, what is the total number of false positives for the label '3'?**\n",
        "\n",
        "Your answer should be an integer (e.g. 8)."
      ]
    },
    {
      "cell_type": "markdown",
      "metadata": {
        "id": "gia_7baGaNpX"
      },
      "source": [
        "### 5.3 Default Rate"
      ]
    },
    {
      "cell_type": "markdown",
      "metadata": {
        "id": "EyB-yDGM5dFt"
      },
      "source": [
        "To assess whether our classification model outperforms a naive classifier, we need to calculate the default rate.\n",
        "\n",
        "*Note: The default rate is the proportion of the most common class's occurrences relative to the total number of entries.*\n",
        "\n",
        " Calculate the default rate using the entire dataset to determine this proportion."
      ]
    },
    {
      "cell_type": "code",
      "execution_count": null,
      "metadata": {
        "id": "EGuVPWBB5qNl"
      },
      "outputs": [],
      "source": [
        "# Your code here\n"
      ]
    },
    {
      "cell_type": "markdown",
      "metadata": {
        "id": "rX5vwaQ1ZsIq"
      },
      "source": [
        "**Q5. What is the default rate ?**\n",
        "Default rate as a percentage. Round to 2 decimal digits (e.g. 30.12)"
      ]
    },
    {
      "cell_type": "markdown",
      "metadata": {
        "id": "QeotqG3gfGL4"
      },
      "source": [
        "**Q6. Look at the default rate you have calculated. Does your logistic regression perform better than a naive algorithm would?**"
      ]
    },
    {
      "cell_type": "markdown",
      "metadata": {
        "id": "k57VCVeZOIvJ"
      },
      "source": [
        "## 6. Trying a different type of classification algorithm\n",
        "\n",
        "Exploring different classification algorithms can provide insights into model performance variations. For this task, we will use the RandomForestClassifier. Follow these steps to implement this approach:\n",
        "\n",
        "- Train your classification algorithm using `RandomForestClassifier()`;\n",
        "- Set `max_depth` to 5 and the random state to a random seed (123);\n",
        "- Do not specify any other parameters;\n",
        "- Evaluate your model by displaying both the training and the test accuracy.\n",
        "\n",
        "*Note: You can reuse the splited and encoded dataframe from Section 3.*"
      ]
    },
    {
      "cell_type": "code",
      "execution_count": null,
      "metadata": {
        "id": "HNvS6Hqs1Lea"
      },
      "outputs": [],
      "source": [
        "# Your code here\n",
        "# Train your classification algorithm\n",
        "\n",
        "\n",
        "# Instantiate the Random Forest Classifier with a maximum depth of 5\n",
        "\n",
        "\n",
        "# Train the Random Forest Classifier\n",
        "\n",
        "\n",
        "# Evaluate the model's performance on the training set\n",
        "\n",
        "\n",
        "# Evaluate the model's performance on the test set"
      ]
    },
    {
      "cell_type": "markdown",
      "metadata": {
        "id": "e-YGoMaCASdI"
      },
      "source": [
        "Dispay the classification report and the confusion matrix."
      ]
    },
    {
      "cell_type": "code",
      "execution_count": null,
      "metadata": {
        "id": "Jcc2et_O9QWu"
      },
      "outputs": [],
      "source": [
        "# Your code here"
      ]
    },
    {
      "cell_type": "markdown",
      "metadata": {
        "id": "Ed1JeEFjfQfD"
      },
      "source": [
        "**Q7. Does the Random Forest Classifier performs better than a logistic regression in terms of accuracy?**"
      ]
    },
    {
      "cell_type": "markdown",
      "metadata": {
        "id": "p3aZt3WmEADO"
      },
      "source": [
        "## 7. Decision tree\n",
        "To compare the effectiveness of different models, we will now utilize a Decision Tree approach. This method can help visualize decision points and understand how features contribute to outcomes. Proceed with the following steps using the DecisionTreeClassifier:\n",
        "\n",
        "- Train your classification algorithm using `DecisionTreeClassifier()`;\n",
        "- Set `max_depth` to 5 and the `random_state` to `random_seed` (123);\n",
        "- Do not specify any other parameters;\n",
        "- Evaluate your model by displaying both the training and the test accuracy.\n",
        "\n",
        "*Note: You can reuse the splited and encoded dataframe from Section 3.*"
      ]
    },
    {
      "cell_type": "code",
      "execution_count": null,
      "metadata": {
        "id": "SF2_J7iAGdwW"
      },
      "outputs": [],
      "source": [
        "# Your code here\n",
        "# Instantiate the Decision Tree Classifier with a maximum depth of 5\n",
        "\n",
        "# Train the Decision Tree Classifier\n",
        "\n",
        "\n",
        "# Evaluate the model's performance on the training set\n",
        "\n",
        "# Evaluate the model's performance on the test set\n"
      ]
    },
    {
      "cell_type": "markdown",
      "metadata": {
        "id": "rUqc4b1rAaJK"
      },
      "source": [
        "Dispay classification report and confusion matrix."
      ]
    },
    {
      "cell_type": "code",
      "execution_count": null,
      "metadata": {
        "id": "PKWk0WJ9O3Rl"
      },
      "outputs": [],
      "source": [
        "# Your code here"
      ]
    },
    {
      "cell_type": "markdown",
      "metadata": {
        "id": "mgK9dDPLbObT"
      },
      "source": [
        "**Q8. According to the confusion matrix of the Decision Tree Classifier, how many suspects were predicted to have a JobLevel of 2?**"
      ]
    },
    {
      "cell_type": "markdown",
      "metadata": {
        "id": "cAGOd4-YgqtF"
      },
      "source": [
        "**Q9. Is the Decision Tree classifier less accurate than the Random Forest Classifier?**"
      ]
    },
    {
      "cell_type": "markdown",
      "metadata": {
        "id": "bv7hqMp9OIvM"
      },
      "source": [
        "## 8. k-Nearest Neighbors (kNN)"
      ]
    },
    {
      "cell_type": "markdown",
      "metadata": {
        "id": "7hwK27xDaNpZ"
      },
      "source": [
        "To explore the impact of different modeling techniques on predictive accuracy, we will experiment with the k-Nearest Neighbors (kNN) algorithm. This method is widely used for its simplicity and effectiveness in classification tasks. Proceed as follows using the kNN model with default settings:\n",
        "\n",
        "- Train your classification algorithm using the default settings of `KNeighborsClassifier()`;\n",
        "- Do not specify any parameters beyond the defaults;\n",
        "- Evaluate your model by displaying its accuracy.\n",
        "\n",
        "*Note: You can reuse the splited and encoded dataframe from Section 3.*"
      ]
    },
    {
      "cell_type": "code",
      "execution_count": null,
      "metadata": {
        "id": "OS1kId4HBUz7"
      },
      "outputs": [],
      "source": [
        "\n",
        "# Your code here\n",
        "# Initialize the kNN classifier\n",
        "\n",
        "# Train the KNN Classifier\n",
        "\n",
        "# Evaluate the model's performance on the training set\n",
        "\n",
        "# Evaluate the model's performance on the test set"
      ]
    },
    {
      "cell_type": "markdown",
      "metadata": {
        "id": "oZ-_ANowaNpa"
      },
      "source": [
        "### 8.1 Tuning with hyperparameter"
      ]
    },
    {
      "cell_type": "markdown",
      "metadata": {
        "id": "rvsrE3OIBW-n"
      },
      "source": [
        "The accuracy from the initial k-Nearest Neighbors (kNN) classifier wasn't as high as expected. Let's refine our model by tuning the 'n_neighbors' hyperparameter.\n",
        "\n",
        "Hyperparameter tuning is crucial for optimizing model performance. A robust method for this is to use grid search, which systematically tests a range of values to determine the optimal setting. For our kNN classifier, we'll employ the following steps to fine-tune the 'n_neighbors' parameter:\n",
        "\n",
        "- Utilize `GridSearchCV()` to perform a grid search over a range of possible values for 'n_neighbors', from 1 to 15. This range helps in identifying the best value for 'k'.\n",
        "- Set the cross-validation (`cv`) parameter to 5 folds to ensure each configuration is adequately tested.\n",
        "- Configure `GridSearchCV()` with the parameters: `scoring='accuracy'`, `return_train_score=False`, and `verbose=1` to monitor the search process.\n",
        "\n",
        "*Note: You can reuse the splited and encoded dataset from Section 3.*"
      ]
    },
    {
      "cell_type": "markdown",
      "metadata": {
        "id": "OFHEfcolaNpa"
      },
      "source": [
        "Set up the kNN classifier and GridSearchCV with a defined range of 'n_neighbors'. Use cross-validation to evaluate each configuration."
      ]
    },
    {
      "cell_type": "code",
      "execution_count": null,
      "metadata": {
        "id": "vsez4bpSaNpa"
      },
      "outputs": [],
      "source": [
        "# Your code here\n"
      ]
    },
    {
      "cell_type": "markdown",
      "metadata": {
        "id": "Yi64GpwVaNpa"
      },
      "source": [
        "Perform the grid search to find the optimal 'n_neighbors' value and train the kNN classifier using this best parameter."
      ]
    },
    {
      "cell_type": "code",
      "execution_count": null,
      "metadata": {
        "id": "CZ26oJBVaNpa"
      },
      "outputs": [],
      "source": [
        "# Your code here"
      ]
    },
    {
      "cell_type": "markdown",
      "metadata": {
        "id": "edO-Ry9YaNpb"
      },
      "source": [
        " Display the best 'n_neighbors' and assess the trained model's accuracy on both the training and test datasets."
      ]
    },
    {
      "cell_type": "code",
      "execution_count": null,
      "metadata": {
        "id": "xtntcMclaNpb"
      },
      "outputs": [],
      "source": [
        "# Your code here\n"
      ]
    },
    {
      "cell_type": "markdown",
      "metadata": {
        "id": "LY_5ApZTaNpb"
      },
      "source": [
        "**Q10. What is the best value of n_neighbor according to the grid search ?**\n"
      ]
    },
    {
      "cell_type": "markdown",
      "metadata": {
        "id": "iHXVQ_51aNpb"
      },
      "source": [
        "Evaluate and compare the performance across a range of 'k' values to determine how the number of neighbors influences accuracy."
      ]
    },
    {
      "cell_type": "code",
      "execution_count": null,
      "metadata": {
        "id": "M-C_dVlSaNpb"
      },
      "outputs": [],
      "source": [
        "# Your code here"
      ]
    },
    {
      "cell_type": "markdown",
      "metadata": {
        "id": "x5v0qN9ImwzR"
      },
      "source": [
        "**Q11. Is kNN classifier the most accurate algorithm among all the explored models?**"
      ]
    },
    {
      "cell_type": "markdown",
      "metadata": {
        "id": "1bIigoLxKYHZ"
      },
      "source": [
        "## 9. Remaining suspects\n",
        "\n",
        "In this section, we will employ the Decision Tree Classifier, as it has proven to be the most accurate among all models evaluated.\n",
        "\n",
        "We will use this model, which you'll train again on the entire `df_encoded` dataframe, to predict potential suspects within the `suspects_encoded` dataframe.\n",
        "\n",
        "Your objective is to generate a table displaying `UserID` alongside their corresponding predicted job levels. We will particularly focus on identifying suspects in significant positions, though not at the highest level. This will help narrow down our list of suspects based on the updated intelligence data.\n"
      ]
    },
    {
      "cell_type": "markdown",
      "metadata": {
        "id": "zML5--1BxFDh"
      },
      "source": [
        "Initialize and fit the Decision Tree Classifier model on the scaled full dataframe `df_encode`. Then, use this model to predict job levels for the encoded suspects dataframe `suspects_encoded`. Append these predictions as a new column `JobLevelDT` in the suspects dataframe."
      ]
    },
    {
      "cell_type": "code",
      "execution_count": null,
      "metadata": {
        "id": "g1y8F4522Kle"
      },
      "outputs": [],
      "source": [
        "# Your code here\n"
      ]
    },
    {
      "cell_type": "markdown",
      "metadata": {
        "id": "nfqFz_tx-IbZ"
      },
      "source": [
        "Finally, display a list of `UserID` whose predicted job level is exactly 4, indicating they hold high-ranking positions but are not at the chief level. This filtering aligns with our profiling criteria that suspects are likely to be in significant roles.\n",
        "\n",
        "Show both the list of these UserIDs and the count of such suspects to wrap up our analysis."
      ]
    },
    {
      "cell_type": "code",
      "execution_count": null,
      "metadata": {
        "id": "qMaWaRs148nw"
      },
      "outputs": [],
      "source": [
        "# Your code here"
      ]
    },
    {
      "cell_type": "markdown",
      "metadata": {
        "id": "GuaUcQ3Ypfxq"
      },
      "source": [
        "**Q12. Based on your Decision Tree model’s predictions, which of the following userIDs belong to suspects with a job level of 4?**"
      ]
    },
    {
      "cell_type": "markdown",
      "metadata": {
        "id": "697FwX54aNpd"
      },
      "source": [
        "## Your investigation is progressing effectively, and the list of suspects is narrowing down.\n",
        "\n",
        "**Don't forget to answer the quiz and submit your code on Moodle before the end of the deadline.**"
      ]
    }
  ],
  "metadata": {
    "colab": {
      "provenance": [],
      "include_colab_link": true
    },
    "kernelspec": {
      "display_name": "Python 3",
      "name": "python3"
    },
    "language_info": {
      "codemirror_mode": {
        "name": "ipython",
        "version": 3
      },
      "file_extension": ".py",
      "mimetype": "text/x-python",
      "name": "python",
      "nbconvert_exporter": "python",
      "pygments_lexer": "ipython3",
      "version": "3.11.8"
    }
  },
  "nbformat": 4,
  "nbformat_minor": 0
}