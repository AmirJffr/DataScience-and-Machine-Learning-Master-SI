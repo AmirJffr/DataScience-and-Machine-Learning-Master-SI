{
  "cells": [
    {
      "cell_type": "markdown",
      "metadata": {
        "id": "view-in-github",
        "colab_type": "text"
      },
      "source": [
        "<a href=\"https://colab.research.google.com/github/AmirJffr/DataScience-and-Machine-Learning-Master-SI/blob/main/Assignements/Part%203/Assignment_part_3.ipynb\" target=\"_parent\"><img src=\"https://colab.research.google.com/assets/colab-badge.svg\" alt=\"Open In Colab\"/></a>"
      ]
    },
    {
      "cell_type": "markdown",
      "metadata": {
        "id": "kZu-7QbP9muh"
      },
      "source": [
        "### DSML investigation\n",
        "\n",
        "You are part of the Suisse Impossible Mission Force, or SIMF for short. You need to uncover a rogue agent that is trying to steal sensitive information.\n",
        "\n",
        "Your mission, should you choose to accept it, is to find that agent before stealing any classified information. Good luck!"
      ]
    },
    {
      "cell_type": "markdown",
      "metadata": {
        "id": "DyL7WNdV9sWV"
      },
      "source": [
        "# Assignment part three\n",
        "\n",
        "\n",
        "We received new intelligence informing us that the rogue agent has a position with great responsibility.\n",
        "Use the table \"HR_Analytics.csv\" to create a classifier model that predicts the job role of a person. Use this model to predict the roles of the table of suspects \"suspect_HR_data.csv\".\n",
        "\n",
        "Retain only the list of suspects whose role indicates high responsibility.\n",
        "\n",
        "\n",
        "## Getting to know our data\n",
        "\n",
        "- BusinessTravel: The frequency of business travel for the employee. (Categorical)\n",
        "- DailyRate: The daily rate of pay for the employee. (Numerical)\n",
        "- DistanceFromHome: The distance from home in miles for the employee. (Numerical)\n",
        "- Education: The level of education achieved by the employee. (Categorical)\n",
        "- EmployeeCount: The total number of employees in the organization. (Numerical)\n",
        "- EmployeeNumber: A unique identifier for each employee profile. (Numerical)\n",
        "- EnvironmentSatisfaction: The employee's satisfaction with their work environment. (Categorical)\n",
        "- Gender: The gender of the employee. (Categorical)\n",
        "- HourlyRate: The hourly rate of pay for the employee. (Numerical)\n",
        "- JobInvolvement: The level of involvement required for the employee's job. (Categorical)\n",
        "- JobLevel: The job level of the employee. (Categorical)\n",
        "- JobSatisfaction: The employee's satisfaction with their job. (Categorical)\n",
        "- MonthlyIncome: The monthly income of the employee. (Numerical)\n",
        "- MonthlyRate: The monthly rate of pay for the employee. (Numerical)\n",
        "- NumCompaniesWorked: The number of companies the employee has worked for. (Numerical)\n",
        "- Over18: Whether or not the employee is over 18. (Categorical)\n",
        "- OverTime: Whether or not the employee works overtime. (Categorical)\n",
        "- PercentSalaryHike: The percentage of salary hike for the employee. (Numerical)\n",
        "- PerformanceRating: The performance rating of the employee. (Categorical)\n",
        "- RelationshipSatisfaction: The employee's satisfaction with their relationships. (Categorical)\n",
        "- StandardHours: The standard hours of work for the employee. (Numerical)\n",
        "- StockOptionLevel: The stock option level of the employee. (Numerical)\n",
        "- TotalWorkingYears: The total number of years the employee has worked. (Numerical)\n",
        "- TrainingTimesLastYear: The number of times the employee was taken for training in the last year. (Numerical)\n",
        "- WorkLifeBalance: The employee's perception of their work-life balance. (Categorical)\n",
        "- YearsAtCompany: The number of years the employee has been with the company. (Numerical)\n",
        "- YearsInCurrentRole: The number of years the employee has been in their current role. (Numerical)\n",
        "- YearsSinceLastPromotion: The number of years since the employee's last promotion. (Numerical)\n",
        "- YearsWithCurrManager: The number of years the employee has been with their current manager. (Numerical)"
      ]
    },
    {
      "cell_type": "code",
      "execution_count": 140,
      "metadata": {
        "id": "XHhI95r5-tyD"
      },
      "outputs": [],
      "source": [
        "# Import required packages\n",
        "import  numpy as np\n",
        "import pandas as pd\n",
        "import matplotlib.pyplot as plt\n",
        "from sklearn.linear_model import LogisticRegression, LogisticRegressionCV\n",
        "from sklearn.tree import DecisionTreeClassifier\n",
        "from sklearn.neighbors import KNeighborsClassifier\n",
        "from sklearn.preprocessing import OneHotEncoder, LabelEncoder, MinMaxScaler\n",
        "from sklearn.compose import ColumnTransformer\n",
        "from sklearn.model_selection import train_test_split\n",
        "from sklearn.metrics import accuracy_score\n",
        "from sklearn.model_selection import GridSearchCV\n",
        "from sklearn.metrics import confusion_matrix, classification_report\n",
        "import seaborn as sns\n",
        "from sklearn.ensemble import RandomForestClassifier\n",
        "\n",
        "\n",
        "from sklearn.model_selection import train_test_split, GridSearchCV\n",
        "from sklearn.metrics import confusion_matrix, accuracy_score, precision_score, recall_score, f1_score\n",
        "%matplotlib inline\n",
        "\n",
        "df = pd.read_csv(\"https://raw.githubusercontent.com/michalis0/DataScience_and_MachineLearning/master/Assignements/Part%203/data/HR_Analytics.csv\", index_col='Unnamed: 0')\n",
        "suspects = pd.read_csv(\"https://raw.githubusercontent.com/michalis0/DataScience_and_MachineLearning/master/Assignements/Part%203/data/suspects.csv\", index_col='Unnamed: 0')\n"
      ]
    },
    {
      "cell_type": "markdown",
      "metadata": {
        "id": "mg11L0cJfVM-"
      },
      "source": [
        "## 1. Check the data"
      ]
    },
    {
      "cell_type": "markdown",
      "metadata": {
        "id": "IJjR8ESu6x-Q"
      },
      "source": [
        "Display the first rows of the datasets at hand. Display the list of columns they have."
      ]
    },
    {
      "cell_type": "code",
      "execution_count": 141,
      "metadata": {
        "id": "o1x8qBfVy89n",
        "colab": {
          "base_uri": "https://localhost:8080/"
        },
        "outputId": "25204589-e65a-4a76-948f-70e0fce26fde"
      },
      "outputs": [
        {
          "output_type": "execute_result",
          "data": {
            "text/plain": [
              "Index(['BusinessTravel', 'DailyRate', 'DistanceFromHome', 'Education',\n",
              "       'EmployeeCount', 'EmployeeNumber', 'EnvironmentSatisfaction', 'Gender',\n",
              "       'HourlyRate', 'JobInvolvement', 'JobLevel', 'JobSatisfaction',\n",
              "       'MonthlyIncome', 'MonthlyRate', 'NumCompaniesWorked', 'OverTime',\n",
              "       'PercentSalaryHike', 'PerformanceRating', 'RelationshipSatisfaction',\n",
              "       'StandardHours', 'StockOptionLevel', 'TotalWorkingYears',\n",
              "       'TrainingTimesLastYear', 'WorkLifeBalance', 'YearsAtCompany',\n",
              "       'YearsInCurrentRole', 'YearsSinceLastPromotion',\n",
              "       'YearsWithCurrManager'],\n",
              "      dtype='object')"
            ]
          },
          "metadata": {},
          "execution_count": 141
        }
      ],
      "source": [
        "df.head()\n",
        "df.columns"
      ]
    },
    {
      "cell_type": "code",
      "execution_count": 142,
      "metadata": {
        "id": "uLN7TLb267n6",
        "colab": {
          "base_uri": "https://localhost:8080/"
        },
        "outputId": "0c02b36b-ea66-4b16-e403-745c7f2c9911"
      },
      "outputs": [
        {
          "output_type": "execute_result",
          "data": {
            "text/plain": [
              "Index(['userID', 'BusinessTravel', 'DailyRate', 'DistanceFromHome',\n",
              "       'Education', 'EmployeeCount', 'EmployeeNumber',\n",
              "       'EnvironmentSatisfaction', 'Gender', 'HourlyRate', 'JobInvolvement',\n",
              "       'JobSatisfaction', 'MonthlyIncome', 'MonthlyRate', 'NumCompaniesWorked',\n",
              "       'OverTime', 'PercentSalaryHike', 'PerformanceRating',\n",
              "       'RelationshipSatisfaction', 'StandardHours', 'StockOptionLevel',\n",
              "       'TotalWorkingYears', 'TrainingTimesLastYear', 'WorkLifeBalance',\n",
              "       'YearsAtCompany', 'YearsInCurrentRole', 'YearsSinceLastPromotion',\n",
              "       'YearsWithCurrManager'],\n",
              "      dtype='object')"
            ]
          },
          "metadata": {},
          "execution_count": 142
        }
      ],
      "source": [
        "# Same steps for the suspects dataset\n",
        "suspects.head()\n",
        "suspects.columns"
      ]
    },
    {
      "cell_type": "markdown",
      "metadata": {
        "id": "Nx-eBE9fZZDc"
      },
      "source": [
        "## 2. Encode categorical variable"
      ]
    },
    {
      "cell_type": "markdown",
      "metadata": {
        "id": "MRt-OwQYIu9Q"
      },
      "source": [
        "Before we can use categorical data in our logistic regression model, these values must be encoded. To determine the most appropriate type of encoding, it's essential to first understand the unique entries in each categorical column.\n",
        "\n",
        "Retrieve and review the unique values for the following columns: `BusinessTravel`, `Gender`, and `OverTime`. This will guide our choice of encoding method.\n",
        "\n",
        "*Hint: A unique value in a column represents a distinct category.*"
      ]
    },
    {
      "cell_type": "code",
      "execution_count": 192,
      "metadata": {
        "id": "yC42BCvdIvg0",
        "colab": {
          "base_uri": "https://localhost:8080/"
        },
        "outputId": "f47b2a53-43c6-4100-aaf7-9eb268cac823"
      },
      "outputs": [
        {
          "output_type": "stream",
          "name": "stdout",
          "text": [
            "Business Travel values:  ['Travel_Rarely' 'Travel_Frequently' 'Non-Travel'] \n",
            "Gender values:  ['Female' 'Male'] \n",
            "OverTime values:  ['Yes' 'No']\n"
          ]
        }
      ],
      "source": [
        "print(f\"Business Travel values: \",df['BusinessTravel'].unique(),\"\\nGender values: \",df['Gender'].unique(), \"\\nOverTime values: \",df['OverTime'].unique())"
      ]
    },
    {
      "cell_type": "markdown",
      "metadata": {
        "id": "_vI-voMgJEmC"
      },
      "source": [
        "**Q1. Which of the following values are included in the unique values of the \"BusinessTravel\" column?**"
      ]
    },
    {
      "cell_type": "markdown",
      "source": [
        "Business Travel values:  ['Travel_Rarely' 'Travel_Frequently' 'Non-Travel']"
      ],
      "metadata": {
        "id": "TD9VFZEwMvjQ"
      }
    },
    {
      "cell_type": "markdown",
      "metadata": {
        "id": "9eQTRYx1CG6j"
      },
      "source": [
        "### 2.1 Encode df dataframe"
      ]
    },
    {
      "cell_type": "markdown",
      "metadata": {
        "id": "F0DCBpE-cJ4t"
      },
      "source": [
        "Consider the dataset HR_analytics which is loaded in the dataframe `df`. We will train our models on this data.\n"
      ]
    },
    {
      "cell_type": "markdown",
      "metadata": {
        "id": "Ls_BFsg8XwLj"
      },
      "source": [
        "*Hint: The general idea is to create a new dataset that will contain the new encoded columns and get rid of the original columns `BusinessTravel`, `OverTime` and `Gender`.*\n",
        "\n",
        "Let's start by encoding our 3 categorical variables:\n",
        "\n",
        "* Label Encoding: `BusinessTravel`.\n",
        "* One-Hot Encoding: `Gender`, `OverTime`\n",
        "\n",
        "*Note: To clearly distinguish your newly encoded columns, especially for label encoding, consider renaming them with a prefix. For example, use `le_BusinessTravel` for the label-encoded `BusinessTravel` column.*\n"
      ]
    },
    {
      "cell_type": "markdown",
      "metadata": {
        "id": "CJuuh9CiKX5O"
      },
      "source": []
    },
    {
      "cell_type": "code",
      "execution_count": 144,
      "metadata": {
        "id": "cH0XFBPNc9Ir"
      },
      "outputs": [],
      "source": [
        "labEncoder = LabelEncoder()\n",
        "df[\"le_BusinessTravel\"] = labEncoder.fit_transform(df[\"BusinessTravel\"])\n",
        "ohEncoder = OneHotEncoder(drop=None, sparse_output=False)\n",
        "go_encoded = ohEncoder.fit_transform(df[[\"Gender\", \"OverTime\"]])\n",
        "encoded_cols = ohEncoder.get_feature_names_out([\"Gender\", \"OverTime\"])\n",
        "go_encoded = pd.DataFrame(go_encoded, columns=encoded_cols, index=df.index)"
      ]
    },
    {
      "cell_type": "markdown",
      "metadata": {
        "id": "5-nlGiNpRHBK"
      },
      "source": [
        " After encoding these categorical variable, merge the newly encoded columns back into a new dataframe named `df_encoded`.\n",
        "\n",
        "This integrated dataframe will then be used for training your model."
      ]
    },
    {
      "cell_type": "code",
      "execution_count": 145,
      "metadata": {
        "id": "k7LlXkEZRYHV",
        "colab": {
          "base_uri": "https://localhost:8080/",
          "height": 255
        },
        "outputId": "ebb5b5b4-22bf-46c5-df00-b913b8275cd9"
      },
      "outputs": [
        {
          "output_type": "execute_result",
          "data": {
            "text/plain": [
              "      BusinessTravel  DailyRate  DistanceFromHome  Education  EmployeeCount  \\\n",
              "0      Travel_Rarely       1102                 1          2              1   \n",
              "1  Travel_Frequently        279                 8          1              1   \n",
              "2      Travel_Rarely       1373                 2          2              1   \n",
              "3  Travel_Frequently       1392                 3          4              1   \n",
              "4      Travel_Rarely        591                 2          1              1   \n",
              "\n",
              "   EmployeeNumber  EnvironmentSatisfaction  Gender  HourlyRate  \\\n",
              "0               1                        2  Female          94   \n",
              "1               2                        3    Male          61   \n",
              "2               4                        4    Male          92   \n",
              "3               5                        4  Female          56   \n",
              "4               7                        1    Male          40   \n",
              "\n",
              "   JobInvolvement  ...  WorkLifeBalance  YearsAtCompany  YearsInCurrentRole  \\\n",
              "0               3  ...                1               6                   4   \n",
              "1               2  ...                3              10                   7   \n",
              "2               2  ...                3               0                   0   \n",
              "3               3  ...                3               8                   7   \n",
              "4               3  ...                3               2                   2   \n",
              "\n",
              "   YearsSinceLastPromotion  YearsWithCurrManager le_BusinessTravel  \\\n",
              "0                        0                     5                 2   \n",
              "1                        1                     7                 1   \n",
              "2                        0                     0                 2   \n",
              "3                        3                     0                 1   \n",
              "4                        2                     2                 2   \n",
              "\n",
              "   Gender_Female  Gender_Male  OverTime_No  OverTime_Yes  \n",
              "0            1.0          0.0          0.0           1.0  \n",
              "1            0.0          1.0          1.0           0.0  \n",
              "2            0.0          1.0          0.0           1.0  \n",
              "3            1.0          0.0          0.0           1.0  \n",
              "4            0.0          1.0          1.0           0.0  \n",
              "\n",
              "[5 rows x 33 columns]"
            ],
            "text/html": [
              "\n",
              "  <div id=\"df-4d89aefa-0413-425c-b92f-0dea9cdf07b5\" class=\"colab-df-container\">\n",
              "    <div>\n",
              "<style scoped>\n",
              "    .dataframe tbody tr th:only-of-type {\n",
              "        vertical-align: middle;\n",
              "    }\n",
              "\n",
              "    .dataframe tbody tr th {\n",
              "        vertical-align: top;\n",
              "    }\n",
              "\n",
              "    .dataframe thead th {\n",
              "        text-align: right;\n",
              "    }\n",
              "</style>\n",
              "<table border=\"1\" class=\"dataframe\">\n",
              "  <thead>\n",
              "    <tr style=\"text-align: right;\">\n",
              "      <th></th>\n",
              "      <th>BusinessTravel</th>\n",
              "      <th>DailyRate</th>\n",
              "      <th>DistanceFromHome</th>\n",
              "      <th>Education</th>\n",
              "      <th>EmployeeCount</th>\n",
              "      <th>EmployeeNumber</th>\n",
              "      <th>EnvironmentSatisfaction</th>\n",
              "      <th>Gender</th>\n",
              "      <th>HourlyRate</th>\n",
              "      <th>JobInvolvement</th>\n",
              "      <th>...</th>\n",
              "      <th>WorkLifeBalance</th>\n",
              "      <th>YearsAtCompany</th>\n",
              "      <th>YearsInCurrentRole</th>\n",
              "      <th>YearsSinceLastPromotion</th>\n",
              "      <th>YearsWithCurrManager</th>\n",
              "      <th>le_BusinessTravel</th>\n",
              "      <th>Gender_Female</th>\n",
              "      <th>Gender_Male</th>\n",
              "      <th>OverTime_No</th>\n",
              "      <th>OverTime_Yes</th>\n",
              "    </tr>\n",
              "  </thead>\n",
              "  <tbody>\n",
              "    <tr>\n",
              "      <th>0</th>\n",
              "      <td>Travel_Rarely</td>\n",
              "      <td>1102</td>\n",
              "      <td>1</td>\n",
              "      <td>2</td>\n",
              "      <td>1</td>\n",
              "      <td>1</td>\n",
              "      <td>2</td>\n",
              "      <td>Female</td>\n",
              "      <td>94</td>\n",
              "      <td>3</td>\n",
              "      <td>...</td>\n",
              "      <td>1</td>\n",
              "      <td>6</td>\n",
              "      <td>4</td>\n",
              "      <td>0</td>\n",
              "      <td>5</td>\n",
              "      <td>2</td>\n",
              "      <td>1.0</td>\n",
              "      <td>0.0</td>\n",
              "      <td>0.0</td>\n",
              "      <td>1.0</td>\n",
              "    </tr>\n",
              "    <tr>\n",
              "      <th>1</th>\n",
              "      <td>Travel_Frequently</td>\n",
              "      <td>279</td>\n",
              "      <td>8</td>\n",
              "      <td>1</td>\n",
              "      <td>1</td>\n",
              "      <td>2</td>\n",
              "      <td>3</td>\n",
              "      <td>Male</td>\n",
              "      <td>61</td>\n",
              "      <td>2</td>\n",
              "      <td>...</td>\n",
              "      <td>3</td>\n",
              "      <td>10</td>\n",
              "      <td>7</td>\n",
              "      <td>1</td>\n",
              "      <td>7</td>\n",
              "      <td>1</td>\n",
              "      <td>0.0</td>\n",
              "      <td>1.0</td>\n",
              "      <td>1.0</td>\n",
              "      <td>0.0</td>\n",
              "    </tr>\n",
              "    <tr>\n",
              "      <th>2</th>\n",
              "      <td>Travel_Rarely</td>\n",
              "      <td>1373</td>\n",
              "      <td>2</td>\n",
              "      <td>2</td>\n",
              "      <td>1</td>\n",
              "      <td>4</td>\n",
              "      <td>4</td>\n",
              "      <td>Male</td>\n",
              "      <td>92</td>\n",
              "      <td>2</td>\n",
              "      <td>...</td>\n",
              "      <td>3</td>\n",
              "      <td>0</td>\n",
              "      <td>0</td>\n",
              "      <td>0</td>\n",
              "      <td>0</td>\n",
              "      <td>2</td>\n",
              "      <td>0.0</td>\n",
              "      <td>1.0</td>\n",
              "      <td>0.0</td>\n",
              "      <td>1.0</td>\n",
              "    </tr>\n",
              "    <tr>\n",
              "      <th>3</th>\n",
              "      <td>Travel_Frequently</td>\n",
              "      <td>1392</td>\n",
              "      <td>3</td>\n",
              "      <td>4</td>\n",
              "      <td>1</td>\n",
              "      <td>5</td>\n",
              "      <td>4</td>\n",
              "      <td>Female</td>\n",
              "      <td>56</td>\n",
              "      <td>3</td>\n",
              "      <td>...</td>\n",
              "      <td>3</td>\n",
              "      <td>8</td>\n",
              "      <td>7</td>\n",
              "      <td>3</td>\n",
              "      <td>0</td>\n",
              "      <td>1</td>\n",
              "      <td>1.0</td>\n",
              "      <td>0.0</td>\n",
              "      <td>0.0</td>\n",
              "      <td>1.0</td>\n",
              "    </tr>\n",
              "    <tr>\n",
              "      <th>4</th>\n",
              "      <td>Travel_Rarely</td>\n",
              "      <td>591</td>\n",
              "      <td>2</td>\n",
              "      <td>1</td>\n",
              "      <td>1</td>\n",
              "      <td>7</td>\n",
              "      <td>1</td>\n",
              "      <td>Male</td>\n",
              "      <td>40</td>\n",
              "      <td>3</td>\n",
              "      <td>...</td>\n",
              "      <td>3</td>\n",
              "      <td>2</td>\n",
              "      <td>2</td>\n",
              "      <td>2</td>\n",
              "      <td>2</td>\n",
              "      <td>2</td>\n",
              "      <td>0.0</td>\n",
              "      <td>1.0</td>\n",
              "      <td>1.0</td>\n",
              "      <td>0.0</td>\n",
              "    </tr>\n",
              "  </tbody>\n",
              "</table>\n",
              "<p>5 rows × 33 columns</p>\n",
              "</div>\n",
              "    <div class=\"colab-df-buttons\">\n",
              "\n",
              "  <div class=\"colab-df-container\">\n",
              "    <button class=\"colab-df-convert\" onclick=\"convertToInteractive('df-4d89aefa-0413-425c-b92f-0dea9cdf07b5')\"\n",
              "            title=\"Convert this dataframe to an interactive table.\"\n",
              "            style=\"display:none;\">\n",
              "\n",
              "  <svg xmlns=\"http://www.w3.org/2000/svg\" height=\"24px\" viewBox=\"0 -960 960 960\">\n",
              "    <path d=\"M120-120v-720h720v720H120Zm60-500h600v-160H180v160Zm220 220h160v-160H400v160Zm0 220h160v-160H400v160ZM180-400h160v-160H180v160Zm440 0h160v-160H620v160ZM180-180h160v-160H180v160Zm440 0h160v-160H620v160Z\"/>\n",
              "  </svg>\n",
              "    </button>\n",
              "\n",
              "  <style>\n",
              "    .colab-df-container {\n",
              "      display:flex;\n",
              "      gap: 12px;\n",
              "    }\n",
              "\n",
              "    .colab-df-convert {\n",
              "      background-color: #E8F0FE;\n",
              "      border: none;\n",
              "      border-radius: 50%;\n",
              "      cursor: pointer;\n",
              "      display: none;\n",
              "      fill: #1967D2;\n",
              "      height: 32px;\n",
              "      padding: 0 0 0 0;\n",
              "      width: 32px;\n",
              "    }\n",
              "\n",
              "    .colab-df-convert:hover {\n",
              "      background-color: #E2EBFA;\n",
              "      box-shadow: 0px 1px 2px rgba(60, 64, 67, 0.3), 0px 1px 3px 1px rgba(60, 64, 67, 0.15);\n",
              "      fill: #174EA6;\n",
              "    }\n",
              "\n",
              "    .colab-df-buttons div {\n",
              "      margin-bottom: 4px;\n",
              "    }\n",
              "\n",
              "    [theme=dark] .colab-df-convert {\n",
              "      background-color: #3B4455;\n",
              "      fill: #D2E3FC;\n",
              "    }\n",
              "\n",
              "    [theme=dark] .colab-df-convert:hover {\n",
              "      background-color: #434B5C;\n",
              "      box-shadow: 0px 1px 3px 1px rgba(0, 0, 0, 0.15);\n",
              "      filter: drop-shadow(0px 1px 2px rgba(0, 0, 0, 0.3));\n",
              "      fill: #FFFFFF;\n",
              "    }\n",
              "  </style>\n",
              "\n",
              "    <script>\n",
              "      const buttonEl =\n",
              "        document.querySelector('#df-4d89aefa-0413-425c-b92f-0dea9cdf07b5 button.colab-df-convert');\n",
              "      buttonEl.style.display =\n",
              "        google.colab.kernel.accessAllowed ? 'block' : 'none';\n",
              "\n",
              "      async function convertToInteractive(key) {\n",
              "        const element = document.querySelector('#df-4d89aefa-0413-425c-b92f-0dea9cdf07b5');\n",
              "        const dataTable =\n",
              "          await google.colab.kernel.invokeFunction('convertToInteractive',\n",
              "                                                    [key], {});\n",
              "        if (!dataTable) return;\n",
              "\n",
              "        const docLinkHtml = 'Like what you see? Visit the ' +\n",
              "          '<a target=\"_blank\" href=https://colab.research.google.com/notebooks/data_table.ipynb>data table notebook</a>'\n",
              "          + ' to learn more about interactive tables.';\n",
              "        element.innerHTML = '';\n",
              "        dataTable['output_type'] = 'display_data';\n",
              "        await google.colab.output.renderOutput(dataTable, element);\n",
              "        const docLink = document.createElement('div');\n",
              "        docLink.innerHTML = docLinkHtml;\n",
              "        element.appendChild(docLink);\n",
              "      }\n",
              "    </script>\n",
              "  </div>\n",
              "\n",
              "\n",
              "    <div id=\"df-fac06b66-f063-4bc9-b217-0ff6b8ebb984\">\n",
              "      <button class=\"colab-df-quickchart\" onclick=\"quickchart('df-fac06b66-f063-4bc9-b217-0ff6b8ebb984')\"\n",
              "                title=\"Suggest charts\"\n",
              "                style=\"display:none;\">\n",
              "\n",
              "<svg xmlns=\"http://www.w3.org/2000/svg\" height=\"24px\"viewBox=\"0 0 24 24\"\n",
              "     width=\"24px\">\n",
              "    <g>\n",
              "        <path d=\"M19 3H5c-1.1 0-2 .9-2 2v14c0 1.1.9 2 2 2h14c1.1 0 2-.9 2-2V5c0-1.1-.9-2-2-2zM9 17H7v-7h2v7zm4 0h-2V7h2v10zm4 0h-2v-4h2v4z\"/>\n",
              "    </g>\n",
              "</svg>\n",
              "      </button>\n",
              "\n",
              "<style>\n",
              "  .colab-df-quickchart {\n",
              "      --bg-color: #E8F0FE;\n",
              "      --fill-color: #1967D2;\n",
              "      --hover-bg-color: #E2EBFA;\n",
              "      --hover-fill-color: #174EA6;\n",
              "      --disabled-fill-color: #AAA;\n",
              "      --disabled-bg-color: #DDD;\n",
              "  }\n",
              "\n",
              "  [theme=dark] .colab-df-quickchart {\n",
              "      --bg-color: #3B4455;\n",
              "      --fill-color: #D2E3FC;\n",
              "      --hover-bg-color: #434B5C;\n",
              "      --hover-fill-color: #FFFFFF;\n",
              "      --disabled-bg-color: #3B4455;\n",
              "      --disabled-fill-color: #666;\n",
              "  }\n",
              "\n",
              "  .colab-df-quickchart {\n",
              "    background-color: var(--bg-color);\n",
              "    border: none;\n",
              "    border-radius: 50%;\n",
              "    cursor: pointer;\n",
              "    display: none;\n",
              "    fill: var(--fill-color);\n",
              "    height: 32px;\n",
              "    padding: 0;\n",
              "    width: 32px;\n",
              "  }\n",
              "\n",
              "  .colab-df-quickchart:hover {\n",
              "    background-color: var(--hover-bg-color);\n",
              "    box-shadow: 0 1px 2px rgba(60, 64, 67, 0.3), 0 1px 3px 1px rgba(60, 64, 67, 0.15);\n",
              "    fill: var(--button-hover-fill-color);\n",
              "  }\n",
              "\n",
              "  .colab-df-quickchart-complete:disabled,\n",
              "  .colab-df-quickchart-complete:disabled:hover {\n",
              "    background-color: var(--disabled-bg-color);\n",
              "    fill: var(--disabled-fill-color);\n",
              "    box-shadow: none;\n",
              "  }\n",
              "\n",
              "  .colab-df-spinner {\n",
              "    border: 2px solid var(--fill-color);\n",
              "    border-color: transparent;\n",
              "    border-bottom-color: var(--fill-color);\n",
              "    animation:\n",
              "      spin 1s steps(1) infinite;\n",
              "  }\n",
              "\n",
              "  @keyframes spin {\n",
              "    0% {\n",
              "      border-color: transparent;\n",
              "      border-bottom-color: var(--fill-color);\n",
              "      border-left-color: var(--fill-color);\n",
              "    }\n",
              "    20% {\n",
              "      border-color: transparent;\n",
              "      border-left-color: var(--fill-color);\n",
              "      border-top-color: var(--fill-color);\n",
              "    }\n",
              "    30% {\n",
              "      border-color: transparent;\n",
              "      border-left-color: var(--fill-color);\n",
              "      border-top-color: var(--fill-color);\n",
              "      border-right-color: var(--fill-color);\n",
              "    }\n",
              "    40% {\n",
              "      border-color: transparent;\n",
              "      border-right-color: var(--fill-color);\n",
              "      border-top-color: var(--fill-color);\n",
              "    }\n",
              "    60% {\n",
              "      border-color: transparent;\n",
              "      border-right-color: var(--fill-color);\n",
              "    }\n",
              "    80% {\n",
              "      border-color: transparent;\n",
              "      border-right-color: var(--fill-color);\n",
              "      border-bottom-color: var(--fill-color);\n",
              "    }\n",
              "    90% {\n",
              "      border-color: transparent;\n",
              "      border-bottom-color: var(--fill-color);\n",
              "    }\n",
              "  }\n",
              "</style>\n",
              "\n",
              "      <script>\n",
              "        async function quickchart(key) {\n",
              "          const quickchartButtonEl =\n",
              "            document.querySelector('#' + key + ' button');\n",
              "          quickchartButtonEl.disabled = true;  // To prevent multiple clicks.\n",
              "          quickchartButtonEl.classList.add('colab-df-spinner');\n",
              "          try {\n",
              "            const charts = await google.colab.kernel.invokeFunction(\n",
              "                'suggestCharts', [key], {});\n",
              "          } catch (error) {\n",
              "            console.error('Error during call to suggestCharts:', error);\n",
              "          }\n",
              "          quickchartButtonEl.classList.remove('colab-df-spinner');\n",
              "          quickchartButtonEl.classList.add('colab-df-quickchart-complete');\n",
              "        }\n",
              "        (() => {\n",
              "          let quickchartButtonEl =\n",
              "            document.querySelector('#df-fac06b66-f063-4bc9-b217-0ff6b8ebb984 button');\n",
              "          quickchartButtonEl.style.display =\n",
              "            google.colab.kernel.accessAllowed ? 'block' : 'none';\n",
              "        })();\n",
              "      </script>\n",
              "    </div>\n",
              "\n",
              "    </div>\n",
              "  </div>\n"
            ],
            "application/vnd.google.colaboratory.intrinsic+json": {
              "type": "dataframe",
              "variable_name": "df_encoded"
            }
          },
          "metadata": {},
          "execution_count": 145
        }
      ],
      "source": [
        "df_encoded = pd.concat([df, go_encoded], axis=1)\n",
        "df_encoded.head()"
      ]
    },
    {
      "cell_type": "markdown",
      "metadata": {
        "id": "hKiIkxmHRX6H"
      },
      "source": [
        "Ensure you remove the columns `BusinessTravel`, `Gender`, and `OverTime` from your `df_encoded` dataframe, as these contain categorical values.\n",
        "You can display the few first rows in order to check if your encoding worked correctly."
      ]
    },
    {
      "cell_type": "code",
      "execution_count": 146,
      "metadata": {
        "id": "8hBGx05ZR2jD"
      },
      "outputs": [],
      "source": [
        "df_encoded =df_encoded.drop(columns=[\"BusinessTravel\", \"Gender\", \"OverTime\"])"
      ]
    },
    {
      "cell_type": "markdown",
      "metadata": {
        "id": "GmCcn8N0aNpS"
      },
      "source": [
        "Let's count and display the occurrences of each value in the `le_BusinessTravel` column of the `df_encoded` DataFrame."
      ]
    },
    {
      "cell_type": "code",
      "execution_count": 147,
      "metadata": {
        "id": "YfAAF-QnaNpS",
        "colab": {
          "base_uri": "https://localhost:8080/",
          "height": 209
        },
        "outputId": "146d976a-7262-40de-b355-97172d5cae9e"
      },
      "outputs": [
        {
          "output_type": "execute_result",
          "data": {
            "text/plain": [
              "le_BusinessTravel\n",
              "2    1043\n",
              "1     277\n",
              "0     150\n",
              "Name: count, dtype: int64"
            ],
            "text/html": [
              "<div>\n",
              "<style scoped>\n",
              "    .dataframe tbody tr th:only-of-type {\n",
              "        vertical-align: middle;\n",
              "    }\n",
              "\n",
              "    .dataframe tbody tr th {\n",
              "        vertical-align: top;\n",
              "    }\n",
              "\n",
              "    .dataframe thead th {\n",
              "        text-align: right;\n",
              "    }\n",
              "</style>\n",
              "<table border=\"1\" class=\"dataframe\">\n",
              "  <thead>\n",
              "    <tr style=\"text-align: right;\">\n",
              "      <th></th>\n",
              "      <th>count</th>\n",
              "    </tr>\n",
              "    <tr>\n",
              "      <th>le_BusinessTravel</th>\n",
              "      <th></th>\n",
              "    </tr>\n",
              "  </thead>\n",
              "  <tbody>\n",
              "    <tr>\n",
              "      <th>2</th>\n",
              "      <td>1043</td>\n",
              "    </tr>\n",
              "    <tr>\n",
              "      <th>1</th>\n",
              "      <td>277</td>\n",
              "    </tr>\n",
              "    <tr>\n",
              "      <th>0</th>\n",
              "      <td>150</td>\n",
              "    </tr>\n",
              "  </tbody>\n",
              "</table>\n",
              "</div><br><label><b>dtype:</b> int64</label>"
            ]
          },
          "metadata": {},
          "execution_count": 147
        }
      ],
      "source": [
        "df_encoded['le_BusinessTravel'].value_counts()"
      ]
    },
    {
      "cell_type": "markdown",
      "metadata": {
        "id": "FCWLRV4u2jO9"
      },
      "source": [
        "### 2.2. Encode suspects dataset"
      ]
    },
    {
      "cell_type": "markdown",
      "metadata": {
        "id": "_uZbFz3T7SiF"
      },
      "source": [
        "Proceed with encoding the `suspects` dataset by following the same steps outlined in Section 2.1. Note the key differences for this dataset:\n",
        "\n",
        "- It lacks the `JobLevel` column, which is our target variable for prediction.\n",
        "- It includes an additional column, `userID`, which is not present in the first dataset.\n"
      ]
    },
    {
      "cell_type": "markdown",
      "metadata": {
        "id": "QfgBi0H9X0DE"
      },
      "source": [
        "*Hint: The general idea is to create a new dataset that will contain the new encoded columns and get rid of the original column BusinessTravel, OverTime and Gender.*\n",
        "\n",
        "Let's start by encoding our 3 categorical variables:\n",
        "\n",
        "* Label Encoding: `BusinessTravel`.\n",
        "* One-Hot Encoding: `Gender`, `OverTime`"
      ]
    },
    {
      "cell_type": "code",
      "execution_count": 148,
      "metadata": {
        "id": "VwJ51tyH2-kM"
      },
      "outputs": [],
      "source": [
        "laEncoder = LabelEncoder()\n",
        "suspects[\"le_BusinessTravel\"] = laEncoder.fit_transform(suspects[\"BusinessTravel\"])\n",
        "onehot = OneHotEncoder(drop=None, sparse_output=False)\n",
        "encoded_suspects = onehot.fit_transform(suspects[[\"Gender\", \"OverTime\"]])\n",
        "encoded_cols = onehot.get_feature_names_out([\"Gender\", \"OverTime\"])\n",
        "encoded_suspects = pd.DataFrame(encoded_suspects, columns=encoded_cols, index=suspects.index)"
      ]
    },
    {
      "cell_type": "markdown",
      "metadata": {
        "id": "F91I7pfpEG-O"
      },
      "source": [
        " After encoding these categorical variable, merge the newly encoded columns with the dataframe `suspects` to create a new dataframe named `suspects_encoded`.\n",
        "\n",
        "This new dataframe will then be used for the prediction at the end of the notebook."
      ]
    },
    {
      "cell_type": "code",
      "execution_count": 149,
      "metadata": {
        "id": "HKGrUGqWEH1d",
        "colab": {
          "base_uri": "https://localhost:8080/",
          "height": 255
        },
        "outputId": "35b76607-feb7-4772-92d7-481dd9e8cfe8"
      },
      "outputs": [
        {
          "output_type": "execute_result",
          "data": {
            "text/plain": [
              "   userID     BusinessTravel  DailyRate  DistanceFromHome  Education  \\\n",
              "0  317991      Travel_Rarely       1102                 1          2   \n",
              "1  241892  Travel_Frequently        279                 8          1   \n",
              "2  303376      Travel_Rarely       1373                 2          2   \n",
              "3  761992  Travel_Frequently       1392                 3          4   \n",
              "4  373318      Travel_Rarely        591                 2          1   \n",
              "\n",
              "   EmployeeCount  EmployeeNumber  EnvironmentSatisfaction  Gender  HourlyRate  \\\n",
              "0              1               1                        2  Female          94   \n",
              "1              1               2                        3    Male          61   \n",
              "2              1               4                        4    Male          92   \n",
              "3              1               5                        4  Female          56   \n",
              "4              1               7                        1    Male          40   \n",
              "\n",
              "   ...  WorkLifeBalance  YearsAtCompany  YearsInCurrentRole  \\\n",
              "0  ...                1               6                   4   \n",
              "1  ...                3              10                   7   \n",
              "2  ...                3               0                   0   \n",
              "3  ...                3               8                   7   \n",
              "4  ...                3               2                   2   \n",
              "\n",
              "   YearsSinceLastPromotion  YearsWithCurrManager le_BusinessTravel  \\\n",
              "0                        0                     5                 2   \n",
              "1                        1                     7                 1   \n",
              "2                        0                     0                 2   \n",
              "3                        3                     0                 1   \n",
              "4                        2                     2                 2   \n",
              "\n",
              "   Gender_Female  Gender_Male  OverTime_No  OverTime_Yes  \n",
              "0            1.0          0.0          0.0           1.0  \n",
              "1            0.0          1.0          1.0           0.0  \n",
              "2            0.0          1.0          0.0           1.0  \n",
              "3            1.0          0.0          0.0           1.0  \n",
              "4            0.0          1.0          1.0           0.0  \n",
              "\n",
              "[5 rows x 33 columns]"
            ],
            "text/html": [
              "\n",
              "  <div id=\"df-19f032d6-ca5f-44ff-9864-9513caddde4a\" class=\"colab-df-container\">\n",
              "    <div>\n",
              "<style scoped>\n",
              "    .dataframe tbody tr th:only-of-type {\n",
              "        vertical-align: middle;\n",
              "    }\n",
              "\n",
              "    .dataframe tbody tr th {\n",
              "        vertical-align: top;\n",
              "    }\n",
              "\n",
              "    .dataframe thead th {\n",
              "        text-align: right;\n",
              "    }\n",
              "</style>\n",
              "<table border=\"1\" class=\"dataframe\">\n",
              "  <thead>\n",
              "    <tr style=\"text-align: right;\">\n",
              "      <th></th>\n",
              "      <th>userID</th>\n",
              "      <th>BusinessTravel</th>\n",
              "      <th>DailyRate</th>\n",
              "      <th>DistanceFromHome</th>\n",
              "      <th>Education</th>\n",
              "      <th>EmployeeCount</th>\n",
              "      <th>EmployeeNumber</th>\n",
              "      <th>EnvironmentSatisfaction</th>\n",
              "      <th>Gender</th>\n",
              "      <th>HourlyRate</th>\n",
              "      <th>...</th>\n",
              "      <th>WorkLifeBalance</th>\n",
              "      <th>YearsAtCompany</th>\n",
              "      <th>YearsInCurrentRole</th>\n",
              "      <th>YearsSinceLastPromotion</th>\n",
              "      <th>YearsWithCurrManager</th>\n",
              "      <th>le_BusinessTravel</th>\n",
              "      <th>Gender_Female</th>\n",
              "      <th>Gender_Male</th>\n",
              "      <th>OverTime_No</th>\n",
              "      <th>OverTime_Yes</th>\n",
              "    </tr>\n",
              "  </thead>\n",
              "  <tbody>\n",
              "    <tr>\n",
              "      <th>0</th>\n",
              "      <td>317991</td>\n",
              "      <td>Travel_Rarely</td>\n",
              "      <td>1102</td>\n",
              "      <td>1</td>\n",
              "      <td>2</td>\n",
              "      <td>1</td>\n",
              "      <td>1</td>\n",
              "      <td>2</td>\n",
              "      <td>Female</td>\n",
              "      <td>94</td>\n",
              "      <td>...</td>\n",
              "      <td>1</td>\n",
              "      <td>6</td>\n",
              "      <td>4</td>\n",
              "      <td>0</td>\n",
              "      <td>5</td>\n",
              "      <td>2</td>\n",
              "      <td>1.0</td>\n",
              "      <td>0.0</td>\n",
              "      <td>0.0</td>\n",
              "      <td>1.0</td>\n",
              "    </tr>\n",
              "    <tr>\n",
              "      <th>1</th>\n",
              "      <td>241892</td>\n",
              "      <td>Travel_Frequently</td>\n",
              "      <td>279</td>\n",
              "      <td>8</td>\n",
              "      <td>1</td>\n",
              "      <td>1</td>\n",
              "      <td>2</td>\n",
              "      <td>3</td>\n",
              "      <td>Male</td>\n",
              "      <td>61</td>\n",
              "      <td>...</td>\n",
              "      <td>3</td>\n",
              "      <td>10</td>\n",
              "      <td>7</td>\n",
              "      <td>1</td>\n",
              "      <td>7</td>\n",
              "      <td>1</td>\n",
              "      <td>0.0</td>\n",
              "      <td>1.0</td>\n",
              "      <td>1.0</td>\n",
              "      <td>0.0</td>\n",
              "    </tr>\n",
              "    <tr>\n",
              "      <th>2</th>\n",
              "      <td>303376</td>\n",
              "      <td>Travel_Rarely</td>\n",
              "      <td>1373</td>\n",
              "      <td>2</td>\n",
              "      <td>2</td>\n",
              "      <td>1</td>\n",
              "      <td>4</td>\n",
              "      <td>4</td>\n",
              "      <td>Male</td>\n",
              "      <td>92</td>\n",
              "      <td>...</td>\n",
              "      <td>3</td>\n",
              "      <td>0</td>\n",
              "      <td>0</td>\n",
              "      <td>0</td>\n",
              "      <td>0</td>\n",
              "      <td>2</td>\n",
              "      <td>0.0</td>\n",
              "      <td>1.0</td>\n",
              "      <td>0.0</td>\n",
              "      <td>1.0</td>\n",
              "    </tr>\n",
              "    <tr>\n",
              "      <th>3</th>\n",
              "      <td>761992</td>\n",
              "      <td>Travel_Frequently</td>\n",
              "      <td>1392</td>\n",
              "      <td>3</td>\n",
              "      <td>4</td>\n",
              "      <td>1</td>\n",
              "      <td>5</td>\n",
              "      <td>4</td>\n",
              "      <td>Female</td>\n",
              "      <td>56</td>\n",
              "      <td>...</td>\n",
              "      <td>3</td>\n",
              "      <td>8</td>\n",
              "      <td>7</td>\n",
              "      <td>3</td>\n",
              "      <td>0</td>\n",
              "      <td>1</td>\n",
              "      <td>1.0</td>\n",
              "      <td>0.0</td>\n",
              "      <td>0.0</td>\n",
              "      <td>1.0</td>\n",
              "    </tr>\n",
              "    <tr>\n",
              "      <th>4</th>\n",
              "      <td>373318</td>\n",
              "      <td>Travel_Rarely</td>\n",
              "      <td>591</td>\n",
              "      <td>2</td>\n",
              "      <td>1</td>\n",
              "      <td>1</td>\n",
              "      <td>7</td>\n",
              "      <td>1</td>\n",
              "      <td>Male</td>\n",
              "      <td>40</td>\n",
              "      <td>...</td>\n",
              "      <td>3</td>\n",
              "      <td>2</td>\n",
              "      <td>2</td>\n",
              "      <td>2</td>\n",
              "      <td>2</td>\n",
              "      <td>2</td>\n",
              "      <td>0.0</td>\n",
              "      <td>1.0</td>\n",
              "      <td>1.0</td>\n",
              "      <td>0.0</td>\n",
              "    </tr>\n",
              "  </tbody>\n",
              "</table>\n",
              "<p>5 rows × 33 columns</p>\n",
              "</div>\n",
              "    <div class=\"colab-df-buttons\">\n",
              "\n",
              "  <div class=\"colab-df-container\">\n",
              "    <button class=\"colab-df-convert\" onclick=\"convertToInteractive('df-19f032d6-ca5f-44ff-9864-9513caddde4a')\"\n",
              "            title=\"Convert this dataframe to an interactive table.\"\n",
              "            style=\"display:none;\">\n",
              "\n",
              "  <svg xmlns=\"http://www.w3.org/2000/svg\" height=\"24px\" viewBox=\"0 -960 960 960\">\n",
              "    <path d=\"M120-120v-720h720v720H120Zm60-500h600v-160H180v160Zm220 220h160v-160H400v160Zm0 220h160v-160H400v160ZM180-400h160v-160H180v160Zm440 0h160v-160H620v160ZM180-180h160v-160H180v160Zm440 0h160v-160H620v160Z\"/>\n",
              "  </svg>\n",
              "    </button>\n",
              "\n",
              "  <style>\n",
              "    .colab-df-container {\n",
              "      display:flex;\n",
              "      gap: 12px;\n",
              "    }\n",
              "\n",
              "    .colab-df-convert {\n",
              "      background-color: #E8F0FE;\n",
              "      border: none;\n",
              "      border-radius: 50%;\n",
              "      cursor: pointer;\n",
              "      display: none;\n",
              "      fill: #1967D2;\n",
              "      height: 32px;\n",
              "      padding: 0 0 0 0;\n",
              "      width: 32px;\n",
              "    }\n",
              "\n",
              "    .colab-df-convert:hover {\n",
              "      background-color: #E2EBFA;\n",
              "      box-shadow: 0px 1px 2px rgba(60, 64, 67, 0.3), 0px 1px 3px 1px rgba(60, 64, 67, 0.15);\n",
              "      fill: #174EA6;\n",
              "    }\n",
              "\n",
              "    .colab-df-buttons div {\n",
              "      margin-bottom: 4px;\n",
              "    }\n",
              "\n",
              "    [theme=dark] .colab-df-convert {\n",
              "      background-color: #3B4455;\n",
              "      fill: #D2E3FC;\n",
              "    }\n",
              "\n",
              "    [theme=dark] .colab-df-convert:hover {\n",
              "      background-color: #434B5C;\n",
              "      box-shadow: 0px 1px 3px 1px rgba(0, 0, 0, 0.15);\n",
              "      filter: drop-shadow(0px 1px 2px rgba(0, 0, 0, 0.3));\n",
              "      fill: #FFFFFF;\n",
              "    }\n",
              "  </style>\n",
              "\n",
              "    <script>\n",
              "      const buttonEl =\n",
              "        document.querySelector('#df-19f032d6-ca5f-44ff-9864-9513caddde4a button.colab-df-convert');\n",
              "      buttonEl.style.display =\n",
              "        google.colab.kernel.accessAllowed ? 'block' : 'none';\n",
              "\n",
              "      async function convertToInteractive(key) {\n",
              "        const element = document.querySelector('#df-19f032d6-ca5f-44ff-9864-9513caddde4a');\n",
              "        const dataTable =\n",
              "          await google.colab.kernel.invokeFunction('convertToInteractive',\n",
              "                                                    [key], {});\n",
              "        if (!dataTable) return;\n",
              "\n",
              "        const docLinkHtml = 'Like what you see? Visit the ' +\n",
              "          '<a target=\"_blank\" href=https://colab.research.google.com/notebooks/data_table.ipynb>data table notebook</a>'\n",
              "          + ' to learn more about interactive tables.';\n",
              "        element.innerHTML = '';\n",
              "        dataTable['output_type'] = 'display_data';\n",
              "        await google.colab.output.renderOutput(dataTable, element);\n",
              "        const docLink = document.createElement('div');\n",
              "        docLink.innerHTML = docLinkHtml;\n",
              "        element.appendChild(docLink);\n",
              "      }\n",
              "    </script>\n",
              "  </div>\n",
              "\n",
              "\n",
              "    <div id=\"df-11525730-a012-45fa-bf76-09b234d853d9\">\n",
              "      <button class=\"colab-df-quickchart\" onclick=\"quickchart('df-11525730-a012-45fa-bf76-09b234d853d9')\"\n",
              "                title=\"Suggest charts\"\n",
              "                style=\"display:none;\">\n",
              "\n",
              "<svg xmlns=\"http://www.w3.org/2000/svg\" height=\"24px\"viewBox=\"0 0 24 24\"\n",
              "     width=\"24px\">\n",
              "    <g>\n",
              "        <path d=\"M19 3H5c-1.1 0-2 .9-2 2v14c0 1.1.9 2 2 2h14c1.1 0 2-.9 2-2V5c0-1.1-.9-2-2-2zM9 17H7v-7h2v7zm4 0h-2V7h2v10zm4 0h-2v-4h2v4z\"/>\n",
              "    </g>\n",
              "</svg>\n",
              "      </button>\n",
              "\n",
              "<style>\n",
              "  .colab-df-quickchart {\n",
              "      --bg-color: #E8F0FE;\n",
              "      --fill-color: #1967D2;\n",
              "      --hover-bg-color: #E2EBFA;\n",
              "      --hover-fill-color: #174EA6;\n",
              "      --disabled-fill-color: #AAA;\n",
              "      --disabled-bg-color: #DDD;\n",
              "  }\n",
              "\n",
              "  [theme=dark] .colab-df-quickchart {\n",
              "      --bg-color: #3B4455;\n",
              "      --fill-color: #D2E3FC;\n",
              "      --hover-bg-color: #434B5C;\n",
              "      --hover-fill-color: #FFFFFF;\n",
              "      --disabled-bg-color: #3B4455;\n",
              "      --disabled-fill-color: #666;\n",
              "  }\n",
              "\n",
              "  .colab-df-quickchart {\n",
              "    background-color: var(--bg-color);\n",
              "    border: none;\n",
              "    border-radius: 50%;\n",
              "    cursor: pointer;\n",
              "    display: none;\n",
              "    fill: var(--fill-color);\n",
              "    height: 32px;\n",
              "    padding: 0;\n",
              "    width: 32px;\n",
              "  }\n",
              "\n",
              "  .colab-df-quickchart:hover {\n",
              "    background-color: var(--hover-bg-color);\n",
              "    box-shadow: 0 1px 2px rgba(60, 64, 67, 0.3), 0 1px 3px 1px rgba(60, 64, 67, 0.15);\n",
              "    fill: var(--button-hover-fill-color);\n",
              "  }\n",
              "\n",
              "  .colab-df-quickchart-complete:disabled,\n",
              "  .colab-df-quickchart-complete:disabled:hover {\n",
              "    background-color: var(--disabled-bg-color);\n",
              "    fill: var(--disabled-fill-color);\n",
              "    box-shadow: none;\n",
              "  }\n",
              "\n",
              "  .colab-df-spinner {\n",
              "    border: 2px solid var(--fill-color);\n",
              "    border-color: transparent;\n",
              "    border-bottom-color: var(--fill-color);\n",
              "    animation:\n",
              "      spin 1s steps(1) infinite;\n",
              "  }\n",
              "\n",
              "  @keyframes spin {\n",
              "    0% {\n",
              "      border-color: transparent;\n",
              "      border-bottom-color: var(--fill-color);\n",
              "      border-left-color: var(--fill-color);\n",
              "    }\n",
              "    20% {\n",
              "      border-color: transparent;\n",
              "      border-left-color: var(--fill-color);\n",
              "      border-top-color: var(--fill-color);\n",
              "    }\n",
              "    30% {\n",
              "      border-color: transparent;\n",
              "      border-left-color: var(--fill-color);\n",
              "      border-top-color: var(--fill-color);\n",
              "      border-right-color: var(--fill-color);\n",
              "    }\n",
              "    40% {\n",
              "      border-color: transparent;\n",
              "      border-right-color: var(--fill-color);\n",
              "      border-top-color: var(--fill-color);\n",
              "    }\n",
              "    60% {\n",
              "      border-color: transparent;\n",
              "      border-right-color: var(--fill-color);\n",
              "    }\n",
              "    80% {\n",
              "      border-color: transparent;\n",
              "      border-right-color: var(--fill-color);\n",
              "      border-bottom-color: var(--fill-color);\n",
              "    }\n",
              "    90% {\n",
              "      border-color: transparent;\n",
              "      border-bottom-color: var(--fill-color);\n",
              "    }\n",
              "  }\n",
              "</style>\n",
              "\n",
              "      <script>\n",
              "        async function quickchart(key) {\n",
              "          const quickchartButtonEl =\n",
              "            document.querySelector('#' + key + ' button');\n",
              "          quickchartButtonEl.disabled = true;  // To prevent multiple clicks.\n",
              "          quickchartButtonEl.classList.add('colab-df-spinner');\n",
              "          try {\n",
              "            const charts = await google.colab.kernel.invokeFunction(\n",
              "                'suggestCharts', [key], {});\n",
              "          } catch (error) {\n",
              "            console.error('Error during call to suggestCharts:', error);\n",
              "          }\n",
              "          quickchartButtonEl.classList.remove('colab-df-spinner');\n",
              "          quickchartButtonEl.classList.add('colab-df-quickchart-complete');\n",
              "        }\n",
              "        (() => {\n",
              "          let quickchartButtonEl =\n",
              "            document.querySelector('#df-11525730-a012-45fa-bf76-09b234d853d9 button');\n",
              "          quickchartButtonEl.style.display =\n",
              "            google.colab.kernel.accessAllowed ? 'block' : 'none';\n",
              "        })();\n",
              "      </script>\n",
              "    </div>\n",
              "\n",
              "    </div>\n",
              "  </div>\n"
            ],
            "application/vnd.google.colaboratory.intrinsic+json": {
              "type": "dataframe",
              "variable_name": "suspects_encoded"
            }
          },
          "metadata": {},
          "execution_count": 149
        }
      ],
      "source": [
        "suspects_encoded = pd.concat([suspects, encoded_suspects], axis=1)\n",
        "suspects_encoded.head()"
      ]
    },
    {
      "cell_type": "markdown",
      "metadata": {
        "id": "lKVHQOwaELSW"
      },
      "source": [
        "Ensure you remove the columns `BusinessTravel`, `Gender`, and `OverTime` from your encoded dataset, as these contain categorical values.\n",
        "\n",
        "Also remove the `userID` columns as it's the independant variable.\n",
        "\n",
        "You can display the few first rows in order to check if your encoding worked correctly."
      ]
    },
    {
      "cell_type": "code",
      "execution_count": 150,
      "metadata": {
        "id": "nFTCCFkBEPqt",
        "colab": {
          "base_uri": "https://localhost:8080/",
          "height": 255
        },
        "outputId": "cf72fc07-c67b-4846-950b-53af945d04b9"
      },
      "outputs": [
        {
          "output_type": "execute_result",
          "data": {
            "text/plain": [
              "   DailyRate  DistanceFromHome  Education  EmployeeCount  EmployeeNumber  \\\n",
              "0       1102                 1          2              1               1   \n",
              "1        279                 8          1              1               2   \n",
              "2       1373                 2          2              1               4   \n",
              "3       1392                 3          4              1               5   \n",
              "4        591                 2          1              1               7   \n",
              "\n",
              "   EnvironmentSatisfaction  HourlyRate  JobInvolvement  JobSatisfaction  \\\n",
              "0                        2          94               3                4   \n",
              "1                        3          61               2                2   \n",
              "2                        4          92               2                3   \n",
              "3                        4          56               3                3   \n",
              "4                        1          40               3                2   \n",
              "\n",
              "   MonthlyIncome  ...  WorkLifeBalance  YearsAtCompany  YearsInCurrentRole  \\\n",
              "0           5993  ...                1               6                   4   \n",
              "1           5130  ...                3              10                   7   \n",
              "2           2090  ...                3               0                   0   \n",
              "3           2909  ...                3               8                   7   \n",
              "4           3468  ...                3               2                   2   \n",
              "\n",
              "   YearsSinceLastPromotion  YearsWithCurrManager  le_BusinessTravel  \\\n",
              "0                        0                     5                  2   \n",
              "1                        1                     7                  1   \n",
              "2                        0                     0                  2   \n",
              "3                        3                     0                  1   \n",
              "4                        2                     2                  2   \n",
              "\n",
              "   Gender_Female  Gender_Male  OverTime_No  OverTime_Yes  \n",
              "0            1.0          0.0          0.0           1.0  \n",
              "1            0.0          1.0          1.0           0.0  \n",
              "2            0.0          1.0          0.0           1.0  \n",
              "3            1.0          0.0          0.0           1.0  \n",
              "4            0.0          1.0          1.0           0.0  \n",
              "\n",
              "[5 rows x 29 columns]"
            ],
            "text/html": [
              "\n",
              "  <div id=\"df-85c34fdb-ee10-486d-a3ce-39876fef6b50\" class=\"colab-df-container\">\n",
              "    <div>\n",
              "<style scoped>\n",
              "    .dataframe tbody tr th:only-of-type {\n",
              "        vertical-align: middle;\n",
              "    }\n",
              "\n",
              "    .dataframe tbody tr th {\n",
              "        vertical-align: top;\n",
              "    }\n",
              "\n",
              "    .dataframe thead th {\n",
              "        text-align: right;\n",
              "    }\n",
              "</style>\n",
              "<table border=\"1\" class=\"dataframe\">\n",
              "  <thead>\n",
              "    <tr style=\"text-align: right;\">\n",
              "      <th></th>\n",
              "      <th>DailyRate</th>\n",
              "      <th>DistanceFromHome</th>\n",
              "      <th>Education</th>\n",
              "      <th>EmployeeCount</th>\n",
              "      <th>EmployeeNumber</th>\n",
              "      <th>EnvironmentSatisfaction</th>\n",
              "      <th>HourlyRate</th>\n",
              "      <th>JobInvolvement</th>\n",
              "      <th>JobSatisfaction</th>\n",
              "      <th>MonthlyIncome</th>\n",
              "      <th>...</th>\n",
              "      <th>WorkLifeBalance</th>\n",
              "      <th>YearsAtCompany</th>\n",
              "      <th>YearsInCurrentRole</th>\n",
              "      <th>YearsSinceLastPromotion</th>\n",
              "      <th>YearsWithCurrManager</th>\n",
              "      <th>le_BusinessTravel</th>\n",
              "      <th>Gender_Female</th>\n",
              "      <th>Gender_Male</th>\n",
              "      <th>OverTime_No</th>\n",
              "      <th>OverTime_Yes</th>\n",
              "    </tr>\n",
              "  </thead>\n",
              "  <tbody>\n",
              "    <tr>\n",
              "      <th>0</th>\n",
              "      <td>1102</td>\n",
              "      <td>1</td>\n",
              "      <td>2</td>\n",
              "      <td>1</td>\n",
              "      <td>1</td>\n",
              "      <td>2</td>\n",
              "      <td>94</td>\n",
              "      <td>3</td>\n",
              "      <td>4</td>\n",
              "      <td>5993</td>\n",
              "      <td>...</td>\n",
              "      <td>1</td>\n",
              "      <td>6</td>\n",
              "      <td>4</td>\n",
              "      <td>0</td>\n",
              "      <td>5</td>\n",
              "      <td>2</td>\n",
              "      <td>1.0</td>\n",
              "      <td>0.0</td>\n",
              "      <td>0.0</td>\n",
              "      <td>1.0</td>\n",
              "    </tr>\n",
              "    <tr>\n",
              "      <th>1</th>\n",
              "      <td>279</td>\n",
              "      <td>8</td>\n",
              "      <td>1</td>\n",
              "      <td>1</td>\n",
              "      <td>2</td>\n",
              "      <td>3</td>\n",
              "      <td>61</td>\n",
              "      <td>2</td>\n",
              "      <td>2</td>\n",
              "      <td>5130</td>\n",
              "      <td>...</td>\n",
              "      <td>3</td>\n",
              "      <td>10</td>\n",
              "      <td>7</td>\n",
              "      <td>1</td>\n",
              "      <td>7</td>\n",
              "      <td>1</td>\n",
              "      <td>0.0</td>\n",
              "      <td>1.0</td>\n",
              "      <td>1.0</td>\n",
              "      <td>0.0</td>\n",
              "    </tr>\n",
              "    <tr>\n",
              "      <th>2</th>\n",
              "      <td>1373</td>\n",
              "      <td>2</td>\n",
              "      <td>2</td>\n",
              "      <td>1</td>\n",
              "      <td>4</td>\n",
              "      <td>4</td>\n",
              "      <td>92</td>\n",
              "      <td>2</td>\n",
              "      <td>3</td>\n",
              "      <td>2090</td>\n",
              "      <td>...</td>\n",
              "      <td>3</td>\n",
              "      <td>0</td>\n",
              "      <td>0</td>\n",
              "      <td>0</td>\n",
              "      <td>0</td>\n",
              "      <td>2</td>\n",
              "      <td>0.0</td>\n",
              "      <td>1.0</td>\n",
              "      <td>0.0</td>\n",
              "      <td>1.0</td>\n",
              "    </tr>\n",
              "    <tr>\n",
              "      <th>3</th>\n",
              "      <td>1392</td>\n",
              "      <td>3</td>\n",
              "      <td>4</td>\n",
              "      <td>1</td>\n",
              "      <td>5</td>\n",
              "      <td>4</td>\n",
              "      <td>56</td>\n",
              "      <td>3</td>\n",
              "      <td>3</td>\n",
              "      <td>2909</td>\n",
              "      <td>...</td>\n",
              "      <td>3</td>\n",
              "      <td>8</td>\n",
              "      <td>7</td>\n",
              "      <td>3</td>\n",
              "      <td>0</td>\n",
              "      <td>1</td>\n",
              "      <td>1.0</td>\n",
              "      <td>0.0</td>\n",
              "      <td>0.0</td>\n",
              "      <td>1.0</td>\n",
              "    </tr>\n",
              "    <tr>\n",
              "      <th>4</th>\n",
              "      <td>591</td>\n",
              "      <td>2</td>\n",
              "      <td>1</td>\n",
              "      <td>1</td>\n",
              "      <td>7</td>\n",
              "      <td>1</td>\n",
              "      <td>40</td>\n",
              "      <td>3</td>\n",
              "      <td>2</td>\n",
              "      <td>3468</td>\n",
              "      <td>...</td>\n",
              "      <td>3</td>\n",
              "      <td>2</td>\n",
              "      <td>2</td>\n",
              "      <td>2</td>\n",
              "      <td>2</td>\n",
              "      <td>2</td>\n",
              "      <td>0.0</td>\n",
              "      <td>1.0</td>\n",
              "      <td>1.0</td>\n",
              "      <td>0.0</td>\n",
              "    </tr>\n",
              "  </tbody>\n",
              "</table>\n",
              "<p>5 rows × 29 columns</p>\n",
              "</div>\n",
              "    <div class=\"colab-df-buttons\">\n",
              "\n",
              "  <div class=\"colab-df-container\">\n",
              "    <button class=\"colab-df-convert\" onclick=\"convertToInteractive('df-85c34fdb-ee10-486d-a3ce-39876fef6b50')\"\n",
              "            title=\"Convert this dataframe to an interactive table.\"\n",
              "            style=\"display:none;\">\n",
              "\n",
              "  <svg xmlns=\"http://www.w3.org/2000/svg\" height=\"24px\" viewBox=\"0 -960 960 960\">\n",
              "    <path d=\"M120-120v-720h720v720H120Zm60-500h600v-160H180v160Zm220 220h160v-160H400v160Zm0 220h160v-160H400v160ZM180-400h160v-160H180v160Zm440 0h160v-160H620v160ZM180-180h160v-160H180v160Zm440 0h160v-160H620v160Z\"/>\n",
              "  </svg>\n",
              "    </button>\n",
              "\n",
              "  <style>\n",
              "    .colab-df-container {\n",
              "      display:flex;\n",
              "      gap: 12px;\n",
              "    }\n",
              "\n",
              "    .colab-df-convert {\n",
              "      background-color: #E8F0FE;\n",
              "      border: none;\n",
              "      border-radius: 50%;\n",
              "      cursor: pointer;\n",
              "      display: none;\n",
              "      fill: #1967D2;\n",
              "      height: 32px;\n",
              "      padding: 0 0 0 0;\n",
              "      width: 32px;\n",
              "    }\n",
              "\n",
              "    .colab-df-convert:hover {\n",
              "      background-color: #E2EBFA;\n",
              "      box-shadow: 0px 1px 2px rgba(60, 64, 67, 0.3), 0px 1px 3px 1px rgba(60, 64, 67, 0.15);\n",
              "      fill: #174EA6;\n",
              "    }\n",
              "\n",
              "    .colab-df-buttons div {\n",
              "      margin-bottom: 4px;\n",
              "    }\n",
              "\n",
              "    [theme=dark] .colab-df-convert {\n",
              "      background-color: #3B4455;\n",
              "      fill: #D2E3FC;\n",
              "    }\n",
              "\n",
              "    [theme=dark] .colab-df-convert:hover {\n",
              "      background-color: #434B5C;\n",
              "      box-shadow: 0px 1px 3px 1px rgba(0, 0, 0, 0.15);\n",
              "      filter: drop-shadow(0px 1px 2px rgba(0, 0, 0, 0.3));\n",
              "      fill: #FFFFFF;\n",
              "    }\n",
              "  </style>\n",
              "\n",
              "    <script>\n",
              "      const buttonEl =\n",
              "        document.querySelector('#df-85c34fdb-ee10-486d-a3ce-39876fef6b50 button.colab-df-convert');\n",
              "      buttonEl.style.display =\n",
              "        google.colab.kernel.accessAllowed ? 'block' : 'none';\n",
              "\n",
              "      async function convertToInteractive(key) {\n",
              "        const element = document.querySelector('#df-85c34fdb-ee10-486d-a3ce-39876fef6b50');\n",
              "        const dataTable =\n",
              "          await google.colab.kernel.invokeFunction('convertToInteractive',\n",
              "                                                    [key], {});\n",
              "        if (!dataTable) return;\n",
              "\n",
              "        const docLinkHtml = 'Like what you see? Visit the ' +\n",
              "          '<a target=\"_blank\" href=https://colab.research.google.com/notebooks/data_table.ipynb>data table notebook</a>'\n",
              "          + ' to learn more about interactive tables.';\n",
              "        element.innerHTML = '';\n",
              "        dataTable['output_type'] = 'display_data';\n",
              "        await google.colab.output.renderOutput(dataTable, element);\n",
              "        const docLink = document.createElement('div');\n",
              "        docLink.innerHTML = docLinkHtml;\n",
              "        element.appendChild(docLink);\n",
              "      }\n",
              "    </script>\n",
              "  </div>\n",
              "\n",
              "\n",
              "    <div id=\"df-35d17e09-02db-41ba-850f-25174742286d\">\n",
              "      <button class=\"colab-df-quickchart\" onclick=\"quickchart('df-35d17e09-02db-41ba-850f-25174742286d')\"\n",
              "                title=\"Suggest charts\"\n",
              "                style=\"display:none;\">\n",
              "\n",
              "<svg xmlns=\"http://www.w3.org/2000/svg\" height=\"24px\"viewBox=\"0 0 24 24\"\n",
              "     width=\"24px\">\n",
              "    <g>\n",
              "        <path d=\"M19 3H5c-1.1 0-2 .9-2 2v14c0 1.1.9 2 2 2h14c1.1 0 2-.9 2-2V5c0-1.1-.9-2-2-2zM9 17H7v-7h2v7zm4 0h-2V7h2v10zm4 0h-2v-4h2v4z\"/>\n",
              "    </g>\n",
              "</svg>\n",
              "      </button>\n",
              "\n",
              "<style>\n",
              "  .colab-df-quickchart {\n",
              "      --bg-color: #E8F0FE;\n",
              "      --fill-color: #1967D2;\n",
              "      --hover-bg-color: #E2EBFA;\n",
              "      --hover-fill-color: #174EA6;\n",
              "      --disabled-fill-color: #AAA;\n",
              "      --disabled-bg-color: #DDD;\n",
              "  }\n",
              "\n",
              "  [theme=dark] .colab-df-quickchart {\n",
              "      --bg-color: #3B4455;\n",
              "      --fill-color: #D2E3FC;\n",
              "      --hover-bg-color: #434B5C;\n",
              "      --hover-fill-color: #FFFFFF;\n",
              "      --disabled-bg-color: #3B4455;\n",
              "      --disabled-fill-color: #666;\n",
              "  }\n",
              "\n",
              "  .colab-df-quickchart {\n",
              "    background-color: var(--bg-color);\n",
              "    border: none;\n",
              "    border-radius: 50%;\n",
              "    cursor: pointer;\n",
              "    display: none;\n",
              "    fill: var(--fill-color);\n",
              "    height: 32px;\n",
              "    padding: 0;\n",
              "    width: 32px;\n",
              "  }\n",
              "\n",
              "  .colab-df-quickchart:hover {\n",
              "    background-color: var(--hover-bg-color);\n",
              "    box-shadow: 0 1px 2px rgba(60, 64, 67, 0.3), 0 1px 3px 1px rgba(60, 64, 67, 0.15);\n",
              "    fill: var(--button-hover-fill-color);\n",
              "  }\n",
              "\n",
              "  .colab-df-quickchart-complete:disabled,\n",
              "  .colab-df-quickchart-complete:disabled:hover {\n",
              "    background-color: var(--disabled-bg-color);\n",
              "    fill: var(--disabled-fill-color);\n",
              "    box-shadow: none;\n",
              "  }\n",
              "\n",
              "  .colab-df-spinner {\n",
              "    border: 2px solid var(--fill-color);\n",
              "    border-color: transparent;\n",
              "    border-bottom-color: var(--fill-color);\n",
              "    animation:\n",
              "      spin 1s steps(1) infinite;\n",
              "  }\n",
              "\n",
              "  @keyframes spin {\n",
              "    0% {\n",
              "      border-color: transparent;\n",
              "      border-bottom-color: var(--fill-color);\n",
              "      border-left-color: var(--fill-color);\n",
              "    }\n",
              "    20% {\n",
              "      border-color: transparent;\n",
              "      border-left-color: var(--fill-color);\n",
              "      border-top-color: var(--fill-color);\n",
              "    }\n",
              "    30% {\n",
              "      border-color: transparent;\n",
              "      border-left-color: var(--fill-color);\n",
              "      border-top-color: var(--fill-color);\n",
              "      border-right-color: var(--fill-color);\n",
              "    }\n",
              "    40% {\n",
              "      border-color: transparent;\n",
              "      border-right-color: var(--fill-color);\n",
              "      border-top-color: var(--fill-color);\n",
              "    }\n",
              "    60% {\n",
              "      border-color: transparent;\n",
              "      border-right-color: var(--fill-color);\n",
              "    }\n",
              "    80% {\n",
              "      border-color: transparent;\n",
              "      border-right-color: var(--fill-color);\n",
              "      border-bottom-color: var(--fill-color);\n",
              "    }\n",
              "    90% {\n",
              "      border-color: transparent;\n",
              "      border-bottom-color: var(--fill-color);\n",
              "    }\n",
              "  }\n",
              "</style>\n",
              "\n",
              "      <script>\n",
              "        async function quickchart(key) {\n",
              "          const quickchartButtonEl =\n",
              "            document.querySelector('#' + key + ' button');\n",
              "          quickchartButtonEl.disabled = true;  // To prevent multiple clicks.\n",
              "          quickchartButtonEl.classList.add('colab-df-spinner');\n",
              "          try {\n",
              "            const charts = await google.colab.kernel.invokeFunction(\n",
              "                'suggestCharts', [key], {});\n",
              "          } catch (error) {\n",
              "            console.error('Error during call to suggestCharts:', error);\n",
              "          }\n",
              "          quickchartButtonEl.classList.remove('colab-df-spinner');\n",
              "          quickchartButtonEl.classList.add('colab-df-quickchart-complete');\n",
              "        }\n",
              "        (() => {\n",
              "          let quickchartButtonEl =\n",
              "            document.querySelector('#df-35d17e09-02db-41ba-850f-25174742286d button');\n",
              "          quickchartButtonEl.style.display =\n",
              "            google.colab.kernel.accessAllowed ? 'block' : 'none';\n",
              "        })();\n",
              "      </script>\n",
              "    </div>\n",
              "\n",
              "    </div>\n",
              "  </div>\n"
            ],
            "application/vnd.google.colaboratory.intrinsic+json": {
              "type": "dataframe",
              "variable_name": "suspects_encoded"
            }
          },
          "metadata": {},
          "execution_count": 150
        }
      ],
      "source": [
        "suspects_encoded = suspects_encoded.drop(columns=[\"BusinessTravel\", \"Gender\", \"OverTime\", \"userID\"])\n",
        "suspects_encoded.head()\n"
      ]
    },
    {
      "cell_type": "markdown",
      "metadata": {
        "id": "ac1J_LPdaNpU"
      },
      "source": [
        "**Q2. How many columns does `suspects_encoded`dataframe contains after the whole encoding process?**"
      ]
    },
    {
      "cell_type": "code",
      "source": [
        "suspects_encoded.shape[1]"
      ],
      "metadata": {
        "id": "1RfA5vggOuYN",
        "outputId": "0acee96e-daf7-4437-da2a-c8a555534dc7",
        "colab": {
          "base_uri": "https://localhost:8080/"
        }
      },
      "execution_count": 151,
      "outputs": [
        {
          "output_type": "execute_result",
          "data": {
            "text/plain": [
              "29"
            ]
          },
          "metadata": {},
          "execution_count": 151
        }
      ]
    },
    {
      "cell_type": "markdown",
      "source": [
        "29 colonnes\n"
      ],
      "metadata": {
        "id": "24ITut-jO1MT"
      }
    },
    {
      "cell_type": "markdown",
      "metadata": {
        "id": "jEf_KqTC1kzs"
      },
      "source": [
        "## 3. Split and rescale"
      ]
    },
    {
      "cell_type": "markdown",
      "metadata": {
        "id": "gx5sxQAY1nCj"
      },
      "source": [
        "To ensure our model generalizes well to new data and to mitigate overfitting, it is essential to partition the dataframe `df_encoded` into training and testing subsets.\n",
        "* Define your dependent variable y `JobLevel` and your independent features X;\n",
        "* Set random seed to 123;\n",
        "* Set test size to 20% and train size to 80%;\n",
        "* Split your dataset into test and train set;\n",
        "* Rescale the features using `MinMaxScaler()`"
      ]
    },
    {
      "cell_type": "code",
      "execution_count": 152,
      "metadata": {
        "id": "o_gvUHBj1mi2"
      },
      "outputs": [],
      "source": [
        "X = df_encoded.drop(columns=[\"JobLevel\"])\n",
        "y = df_encoded[\"JobLevel\"]\n",
        "X_train, X_test, y_train, y_test = train_test_split(X, y, test_size=0.2, random_state=123)\n",
        "scaler = MinMaxScaler()\n",
        "X_train_scaled = scaler.fit_transform(X_train)\n",
        "X_test_scaled = scaler.transform(X_test)"
      ]
    },
    {
      "cell_type": "markdown",
      "metadata": {
        "id": "KPoK0Exl3ZHe"
      },
      "source": [
        "## 4. Logistic regression"
      ]
    },
    {
      "cell_type": "markdown",
      "metadata": {
        "id": "ptG02qLp3uRq"
      },
      "source": [
        "\n",
        "In this section we will use logistic regression to predict the `JobLevel` of the potential suspects in the training dataframe `df_encoded`."
      ]
    },
    {
      "cell_type": "markdown",
      "metadata": {
        "id": "5HryuD63Y0q9"
      },
      "source": [
        "Begin by training a logistic regression model with the `max_iter` parameter set to 1000 and `random_state` to 123. Fit the model on the training data."
      ]
    },
    {
      "cell_type": "code",
      "execution_count": 153,
      "metadata": {
        "id": "K3Bb-Kgfw8OF"
      },
      "outputs": [],
      "source": [
        "log_regression = LogisticRegression(max_iter=1000, random_state=123)\n",
        "log_regression.fit(X_train_scaled, y_train)\n",
        "y_pred = log_regression.predict(X_test_scaled)"
      ]
    },
    {
      "cell_type": "markdown",
      "metadata": {
        "id": "bbt4tUOQY2-_"
      },
      "source": [
        "Then, evaluate the model's accuracy on the test set.\n",
        "\n"
      ]
    },
    {
      "cell_type": "code",
      "execution_count": 203,
      "metadata": {
        "id": "5wrei-z-Y8e9",
        "colab": {
          "base_uri": "https://localhost:8080/"
        },
        "outputId": "76e4dd11-b8e5-4893-b2e2-6211f3bfbbf5"
      },
      "outputs": [
        {
          "output_type": "stream",
          "name": "stdout",
          "text": [
            "Accuracy:  74.15%\n"
          ]
        }
      ],
      "source": [
        "accuracy = log_regression.score(X_test_scaled, y_test)\n",
        "print(f\"Accuracy: {accuracy * 100 : .2f}%\")"
      ]
    },
    {
      "cell_type": "markdown",
      "metadata": {
        "id": "Guq2j4d44Mjd"
      },
      "source": [
        "## 5. Evaluate your model"
      ]
    },
    {
      "cell_type": "markdown",
      "metadata": {
        "id": "u2vOsuX2aNpV"
      },
      "source": [
        "### 5.1 Classification Report"
      ]
    },
    {
      "cell_type": "markdown",
      "metadata": {
        "id": "lukViE7T4luK"
      },
      "source": [
        "To gain more insight into the quality of our model, generate and print the classification report using the test set."
      ]
    },
    {
      "cell_type": "code",
      "execution_count": 155,
      "metadata": {
        "id": "F0CDNAKL4jsr",
        "colab": {
          "base_uri": "https://localhost:8080/"
        },
        "outputId": "1d977681-fcaf-49fd-da4a-3ae57bc705ed"
      },
      "outputs": [
        {
          "output_type": "stream",
          "name": "stdout",
          "text": [
            "              precision    recall  f1-score   support\n",
            "\n",
            "           1       0.78      0.95      0.85        93\n",
            "           2       0.75      0.77      0.76       112\n",
            "           3       0.68      0.49      0.57        47\n",
            "           4       0.63      0.44      0.52        27\n",
            "           5       0.64      0.60      0.62        15\n",
            "\n",
            "    accuracy                           0.74       294\n",
            "   macro avg       0.70      0.65      0.67       294\n",
            "weighted avg       0.73      0.74      0.73       294\n",
            "\n"
          ]
        }
      ],
      "source": [
        "class_report = classification_report(y_test, log_regression.predict(X_test_scaled))\n",
        "print(class_report)"
      ]
    },
    {
      "cell_type": "markdown",
      "metadata": {
        "id": "Z4UXsr4-aNpW"
      },
      "source": [
        "**Q3. According to the classification report, which job level does the logistic regression model struggle the most to classify accurately?**\n",
        "\n",
        "*Hint: Precision might not be the only value to take into consideration*"
      ]
    },
    {
      "cell_type": "markdown",
      "source": [
        "Job Level 4"
      ],
      "metadata": {
        "id": "SwLklbLGV0Uy"
      }
    },
    {
      "cell_type": "markdown",
      "metadata": {
        "id": "b56IE1U3aNpW"
      },
      "source": [
        "### 5.2 Confusion Matrix"
      ]
    },
    {
      "cell_type": "markdown",
      "metadata": {
        "id": "kGO2q4DR4rfq"
      },
      "source": [
        "Print a heatmap of a confusion matrix.\n",
        "\n",
        "*Note: The code below adjusts the category numeration to start from '1' instead of the default '0'. Make sure to replace the placeholders with your actual variables before plotting the confusion matrix.*\n",
        "\n",
        "*Code Reuse Guidance: Ensure that you use the correct variables when adapting the provided code snippet to generate and display the heatmap of your confusion matrix.*"
      ]
    },
    {
      "cell_type": "code",
      "execution_count": 179,
      "metadata": {
        "id": "losiDdW_4rKB",
        "colab": {
          "base_uri": "https://localhost:8080/",
          "height": 410
        },
        "outputId": "9dc6e079-7021-4959-99fa-4256f95d0a09"
      },
      "outputs": [
        {
          "output_type": "display_data",
          "data": {
            "text/plain": [
              "<Figure size 600x400 with 2 Axes>"
            ],
            "image/png": "[encoded data removed]"
          },
          "metadata": {}
        }
      ],
      "source": [
        "# Plot confusion matrix as heatmap\n",
        "# Calculate the confusion matrix\n",
        "cm = confusion_matrix(y_test, y_pred)\n",
        "\n",
        "# Adjust the confusion matrix for 1-based indexing if necessary\n",
        "if np.min(y_test) == 0:  # Check if the smallest label is 0\n",
        "    cm = np.roll(cm, shift=1, axis=0)\n",
        "    cm = np.roll(cm, shift=1, axis=1)\n",
        "\n",
        "# Your code here\n",
        "plt.figure(figsize=(6, 4))\n",
        "sns.heatmap(cm, annot=True, fmt='d', cmap='Purples', xticklabels=np.arange(1, cm.shape[1] + 1), yticklabels=np.arange(1, cm.shape[0] + 1))\n",
        "plt.xlabel('Predicted')\n",
        "plt.ylabel('Actual')\n",
        "plt.title('Confusion Matrix')\n",
        "plt.show()"
      ]
    },
    {
      "cell_type": "markdown",
      "metadata": {
        "id": "bjHidWPdaNpX"
      },
      "source": [
        "**Q4. Based on the confusion matrix, what is the total number of false positives for the label '3'?**\n",
        "\n",
        "Your answer should be an integer (e.g. 8)."
      ]
    },
    {
      "cell_type": "markdown",
      "source": [
        "11 False Positives"
      ],
      "metadata": {
        "id": "E7E_HxhjXSUb"
      }
    },
    {
      "cell_type": "markdown",
      "metadata": {
        "id": "gia_7baGaNpX"
      },
      "source": [
        "### 5.3 Default Rate"
      ]
    },
    {
      "cell_type": "markdown",
      "metadata": {
        "id": "EyB-yDGM5dFt"
      },
      "source": [
        "To assess whether our classification model outperforms a naive classifier, we need to calculate the default rate.\n",
        "\n",
        "*Note: The default rate is the proportion of the most common class's occurrences relative to the total number of entries.*\n",
        "\n",
        " Calculate the default rate using the entire dataset to determine this proportion."
      ]
    },
    {
      "cell_type": "code",
      "execution_count": 201,
      "metadata": {
        "id": "EGuVPWBB5qNl",
        "colab": {
          "base_uri": "https://localhost:8080/"
        },
        "outputId": "fe490e64-8c6b-48da-d60f-c53e665674e0"
      },
      "outputs": [
        {
          "output_type": "stream",
          "name": "stdout",
          "text": [
            "Default rate =  36.94%\n"
          ]
        }
      ],
      "source": [
        "default_rate = df['JobLevel'].value_counts(normalize=True).max()\n",
        "print(f\"Default rate = {default_rate * 100: .2f}%\")"
      ]
    },
    {
      "cell_type": "markdown",
      "metadata": {
        "id": "rX5vwaQ1ZsIq"
      },
      "source": [
        "**Q5. What is the default rate ?**\n",
        "Default rate as a percentage. Round to 2 decimal digits (e.g. 30.12)"
      ]
    },
    {
      "cell_type": "markdown",
      "source": [
        "Default Rate = 36.94%"
      ],
      "metadata": {
        "id": "9U0tI691aQBC"
      }
    },
    {
      "cell_type": "markdown",
      "metadata": {
        "id": "QeotqG3gfGL4"
      },
      "source": [
        "**Q6. Look at the default rate you have calculated. Does your logistic regression perform better than a naive algorithm would?**"
      ]
    },
    {
      "cell_type": "markdown",
      "source": [
        "Yes the logistic regression performs better (accuracy = 74%) compared to the default rate (36%)"
      ],
      "metadata": {
        "id": "1WcqnmwRapUr"
      }
    },
    {
      "cell_type": "markdown",
      "metadata": {
        "id": "k57VCVeZOIvJ"
      },
      "source": [
        "## 6. Trying a different type of classification algorithm\n",
        "\n",
        "Exploring different classification algorithms can provide insights into model performance variations. For this task, we will use the RandomForestClassifier. Follow these steps to implement this approach:\n",
        "\n",
        "- Train your classification algorithm using `RandomForestClassifier()`;\n",
        "- Set `max_depth` to 5 and the random state to a random seed (123);\n",
        "- Do not specify any other parameters;\n",
        "- Evaluate your model by displaying both the training and the test accuracy.\n",
        "\n",
        "*Note: You can reuse the splited and encoded dataframe from Section 3.*"
      ]
    },
    {
      "cell_type": "code",
      "execution_count": 158,
      "metadata": {
        "id": "HNvS6Hqs1Lea"
      },
      "outputs": [],
      "source": [
        "# Your code here\n",
        "# Train your classification algorithm\n",
        "\n",
        "\n",
        "# Instantiate the Random Forest Classifier with a maximum depth of 5\n",
        "\n",
        "\n",
        "# Train the Random Forest Classifier\n",
        "\n",
        "\n",
        "# Evaluate the model's performance on the training set\n",
        "\n",
        "\n",
        "# Evaluate the model's performance on the test set"
      ]
    },
    {
      "cell_type": "markdown",
      "metadata": {
        "id": "e-YGoMaCASdI"
      },
      "source": [
        "Dispay the classification report and the confusion matrix."
      ]
    },
    {
      "cell_type": "code",
      "execution_count": 159,
      "metadata": {
        "id": "Jcc2et_O9QWu"
      },
      "outputs": [],
      "source": [
        "# Your code here"
      ]
    },
    {
      "cell_type": "markdown",
      "metadata": {
        "id": "Ed1JeEFjfQfD"
      },
      "source": [
        "**Q7. Does the Random Forest Classifier performs better than a logistic regression in terms of accuracy?**"
      ]
    },
    {
      "cell_type": "markdown",
      "metadata": {
        "id": "p3aZt3WmEADO"
      },
      "source": [
        "## 7. Decision tree\n",
        "To compare the effectiveness of different models, we will now utilize a Decision Tree approach. This method can help visualize decision points and understand how features contribute to outcomes. Proceed with the following steps using the DecisionTreeClassifier:\n",
        "\n",
        "- Train your classification algorithm using `DecisionTreeClassifier()`;\n",
        "- Set `max_depth` to 5 and the `random_state` to `random_seed` (123);\n",
        "- Do not specify any other parameters;\n",
        "- Evaluate your model by displaying both the training and the test accuracy.\n",
        "\n",
        "*Note: You can reuse the splited and encoded dataframe from Section 3.*"
      ]
    },
    {
      "cell_type": "code",
      "execution_count": 160,
      "metadata": {
        "id": "SF2_J7iAGdwW"
      },
      "outputs": [],
      "source": [
        "# Your code here\n",
        "# Instantiate the Decision Tree Classifier with a maximum depth of 5\n",
        "\n",
        "# Train the Decision Tree Classifier\n",
        "\n",
        "\n",
        "# Evaluate the model's performance on the training set\n",
        "\n",
        "# Evaluate the model's performance on the test set\n"
      ]
    },
    {
      "cell_type": "markdown",
      "metadata": {
        "id": "rUqc4b1rAaJK"
      },
      "source": [
        "Dispay classification report and confusion matrix."
      ]
    },
    {
      "cell_type": "code",
      "execution_count": 161,
      "metadata": {
        "id": "PKWk0WJ9O3Rl"
      },
      "outputs": [],
      "source": [
        "# Your code here"
      ]
    },
    {
      "cell_type": "markdown",
      "metadata": {
        "id": "mgK9dDPLbObT"
      },
      "source": [
        "**Q8. According to the confusion matrix of the Decision Tree Classifier, how many suspects were predicted to have a JobLevel of 2?**"
      ]
    },
    {
      "cell_type": "markdown",
      "metadata": {
        "id": "cAGOd4-YgqtF"
      },
      "source": [
        "**Q9. Is the Decision Tree classifier less accurate than the Random Forest Classifier?**"
      ]
    },
    {
      "cell_type": "markdown",
      "metadata": {
        "id": "bv7hqMp9OIvM"
      },
      "source": [
        "## 8. k-Nearest Neighbors (kNN)"
      ]
    },
    {
      "cell_type": "markdown",
      "metadata": {
        "id": "7hwK27xDaNpZ"
      },
      "source": [
        "To explore the impact of different modeling techniques on predictive accuracy, we will experiment with the k-Nearest Neighbors (kNN) algorithm. This method is widely used for its simplicity and effectiveness in classification tasks. Proceed as follows using the kNN model with default settings:\n",
        "\n",
        "- Train your classification algorithm using the default settings of `KNeighborsClassifier()`;\n",
        "- Do not specify any parameters beyond the defaults;\n",
        "- Evaluate your model by displaying its accuracy.\n",
        "\n",
        "*Note: You can reuse the splited and encoded dataframe from Section 3.*"
      ]
    },
    {
      "cell_type": "code",
      "execution_count": 162,
      "metadata": {
        "id": "OS1kId4HBUz7"
      },
      "outputs": [],
      "source": [
        "\n",
        "# Your code here\n",
        "# Initialize the kNN classifier\n",
        "\n",
        "# Train the KNN Classifier\n",
        "\n",
        "# Evaluate the model's performance on the training set\n",
        "\n",
        "# Evaluate the model's performance on the test set"
      ]
    },
    {
      "cell_type": "markdown",
      "metadata": {
        "id": "oZ-_ANowaNpa"
      },
      "source": [
        "### 8.1 Tuning with hyperparameter"
      ]
    },
    {
      "cell_type": "markdown",
      "metadata": {
        "id": "rvsrE3OIBW-n"
      },
      "source": [
        "The accuracy from the initial k-Nearest Neighbors (kNN) classifier wasn't as high as expected. Let's refine our model by tuning the 'n_neighbors' hyperparameter.\n",
        "\n",
        "Hyperparameter tuning is crucial for optimizing model performance. A robust method for this is to use grid search, which systematically tests a range of values to determine the optimal setting. For our kNN classifier, we'll employ the following steps to fine-tune the 'n_neighbors' parameter:\n",
        "\n",
        "- Utilize `GridSearchCV()` to perform a grid search over a range of possible values for 'n_neighbors', from 1 to 15. This range helps in identifying the best value for 'k'.\n",
        "- Set the cross-validation (`cv`) parameter to 5 folds to ensure each configuration is adequately tested.\n",
        "- Configure `GridSearchCV()` with the parameters: `scoring='accuracy'`, `return_train_score=False`, and `verbose=1` to monitor the search process.\n",
        "\n",
        "*Note: You can reuse the splited and encoded dataset from Section 3.*"
      ]
    },
    {
      "cell_type": "markdown",
      "metadata": {
        "id": "OFHEfcolaNpa"
      },
      "source": [
        "Set up the kNN classifier and GridSearchCV with a defined range of 'n_neighbors'. Use cross-validation to evaluate each configuration."
      ]
    },
    {
      "cell_type": "code",
      "execution_count": 163,
      "metadata": {
        "id": "vsez4bpSaNpa"
      },
      "outputs": [],
      "source": [
        "# Your code here\n"
      ]
    },
    {
      "cell_type": "markdown",
      "metadata": {
        "id": "Yi64GpwVaNpa"
      },
      "source": [
        "Perform the grid search to find the optimal 'n_neighbors' value and train the kNN classifier using this best parameter."
      ]
    },
    {
      "cell_type": "code",
      "execution_count": 164,
      "metadata": {
        "id": "CZ26oJBVaNpa"
      },
      "outputs": [],
      "source": [
        "# Your code here"
      ]
    },
    {
      "cell_type": "markdown",
      "metadata": {
        "id": "edO-Ry9YaNpb"
      },
      "source": [
        " Display the best 'n_neighbors' and assess the trained model's accuracy on both the training and test datasets."
      ]
    },
    {
      "cell_type": "code",
      "execution_count": 165,
      "metadata": {
        "id": "xtntcMclaNpb"
      },
      "outputs": [],
      "source": [
        "# Your code here\n"
      ]
    },
    {
      "cell_type": "markdown",
      "metadata": {
        "id": "LY_5ApZTaNpb"
      },
      "source": [
        "**Q10. What is the best value of n_neighbor according to the grid search ?**\n"
      ]
    },
    {
      "cell_type": "markdown",
      "metadata": {
        "id": "iHXVQ_51aNpb"
      },
      "source": [
        "Evaluate and compare the performance across a range of 'k' values to determine how the number of neighbors influences accuracy."
      ]
    },
    {
      "cell_type": "code",
      "execution_count": 166,
      "metadata": {
        "id": "M-C_dVlSaNpb"
      },
      "outputs": [],
      "source": [
        "# Your code here"
      ]
    },
    {
      "cell_type": "markdown",
      "metadata": {
        "id": "x5v0qN9ImwzR"
      },
      "source": [
        "**Q11. Is kNN classifier the most accurate algorithm among all the explored models?**"
      ]
    },
    {
      "cell_type": "markdown",
      "metadata": {
        "id": "1bIigoLxKYHZ"
      },
      "source": [
        "## 9. Remaining suspects\n",
        "\n",
        "In this section, we will employ the Decision Tree Classifier, as it has proven to be the most accurate among all models evaluated.\n",
        "\n",
        "We will use this model, which you'll train again on the entire `df_encoded` dataframe, to predict potential suspects within the `suspects_encoded` dataframe.\n",
        "\n",
        "Your objective is to generate a table displaying `UserID` alongside their corresponding predicted job levels. We will particularly focus on identifying suspects in significant positions, though not at the highest level. This will help narrow down our list of suspects based on the updated intelligence data.\n"
      ]
    },
    {
      "cell_type": "markdown",
      "metadata": {
        "id": "zML5--1BxFDh"
      },
      "source": [
        "Initialize and fit the Decision Tree Classifier model on the scaled full dataframe `df_encode`. Then, use this model to predict job levels for the encoded suspects dataframe `suspects_encoded`. Append these predictions as a new column `JobLevelDT` in the suspects dataframe."
      ]
    },
    {
      "cell_type": "code",
      "execution_count": 167,
      "metadata": {
        "id": "g1y8F4522Kle"
      },
      "outputs": [],
      "source": [
        "# Your code here\n"
      ]
    },
    {
      "cell_type": "markdown",
      "metadata": {
        "id": "nfqFz_tx-IbZ"
      },
      "source": [
        "Finally, display a list of `UserID` whose predicted job level is exactly 4, indicating they hold high-ranking positions but are not at the chief level. This filtering aligns with our profiling criteria that suspects are likely to be in significant roles.\n",
        "\n",
        "Show both the list of these UserIDs and the count of such suspects to wrap up our analysis."
      ]
    },
    {
      "cell_type": "code",
      "execution_count": 168,
      "metadata": {
        "id": "qMaWaRs148nw"
      },
      "outputs": [],
      "source": [
        "# Your code here"
      ]
    },
    {
      "cell_type": "markdown",
      "metadata": {
        "id": "GuaUcQ3Ypfxq"
      },
      "source": [
        "**Q12. Based on your Decision Tree model’s predictions, which of the following userIDs belong to suspects with a job level of 4?**"
      ]
    },
    {
      "cell_type": "markdown",
      "metadata": {
        "id": "697FwX54aNpd"
      },
      "source": [
        "## Your investigation is progressing effectively, and the list of suspects is narrowing down.\n",
        "\n",
        "**Don't forget to answer the quiz and submit your code on Moodle before the end of the deadline.**"
      ]
    }
  ],
  "metadata": {
    "colab": {
      "provenance": [],
      "include_colab_link": true
    },
    "kernelspec": {
      "display_name": "Python 3",
      "name": "python3"
    },
    "language_info": {
      "codemirror_mode": {
        "name": "ipython",
        "version": 3
      },
      "file_extension": ".py",
      "mimetype": "text/x-python",
      "name": "python",
      "nbconvert_exporter": "python",
      "pygments_lexer": "ipython3",
      "version": "3.11.8"
    }
  },
  "nbformat": 4,
  "nbformat_minor": 0
}